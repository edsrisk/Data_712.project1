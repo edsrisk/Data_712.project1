{
 "cells": [
  {
   "cell_type": "markdown",
   "metadata": {},
   "source": [
    "## Using Data From ANES to Form A Data-Driven on Trump Voters"
   ]
  },
  {
   "cell_type": "markdown",
   "metadata": {},
   "source": [
    "#### While the dataset contains information on voters of every candidate in the 2020 elctions, our interest is solely on issues that the Trump voters found important"
   ]
  },
  {
   "cell_type": "code",
   "execution_count": 1,
   "metadata": {},
   "outputs": [],
   "source": [
    "# Import libraries and dependencies\n",
    "import pandas as pd\n",
    "import numpy as np\n",
    "import matplotlib.pyplot as plt\n",
    "import statsmodels.api as sm\n",
    "import math\n",
    "from sklearn.model_selection import train_test_split\n",
    "from sklearn.linear_model import LinearRegression\n",
    "from sklearn.metrics import mean_squared_error, r2_score, mean_absolute_error\n",
    "from scipy import stats\n",
    "from scipy.stats import kurtosis, skew\n",
    "from pprint import pprint\n",
    "import seaborn as sns"
   ]
  },
  {
   "cell_type": "code",
   "execution_count": 2,
   "metadata": {},
   "outputs": [],
   "source": [
    "# Import ANES data file; read the second tab that contains the data and index on caseid\n",
    "anes_data = pd.read_excel('project_file.xlsx', 'data', index_col='caseid')"
   ]
  },
  {
   "cell_type": "code",
   "execution_count": 3,
   "metadata": {},
   "outputs": [
    {
     "data": {
      "text/html": [
       "<div>\n",
       "<style scoped>\n",
       "    .dataframe tbody tr th:only-of-type {\n",
       "        vertical-align: middle;\n",
       "    }\n",
       "\n",
       "    .dataframe tbody tr th {\n",
       "        vertical-align: top;\n",
       "    }\n",
       "\n",
       "    .dataframe thead th {\n",
       "        text-align: right;\n",
       "    }\n",
       "</style>\n",
       "<table border=\"1\" class=\"dataframe\">\n",
       "  <thead>\n",
       "    <tr style=\"text-align: right;\">\n",
       "      <th></th>\n",
       "      <th>weight_pre</th>\n",
       "      <th>weight_post</th>\n",
       "      <th>sampvar</th>\n",
       "      <th>varstrat</th>\n",
       "      <th>interest_politics</th>\n",
       "      <th>interest_campaign</th>\n",
       "      <th>state_reg</th>\n",
       "      <th>party_reg</th>\n",
       "      <th>primary_voter</th>\n",
       "      <th>pol_spectrum</th>\n",
       "      <th>...</th>\n",
       "      <th>union</th>\n",
       "      <th>ethnicity</th>\n",
       "      <th>children</th>\n",
       "      <th>income</th>\n",
       "      <th>health</th>\n",
       "      <th>getcovid</th>\n",
       "      <th>satisfied</th>\n",
       "      <th>vote</th>\n",
       "      <th>whovoted</th>\n",
       "      <th>region</th>\n",
       "    </tr>\n",
       "    <tr>\n",
       "      <th>caseid</th>\n",
       "      <th></th>\n",
       "      <th></th>\n",
       "      <th></th>\n",
       "      <th></th>\n",
       "      <th></th>\n",
       "      <th></th>\n",
       "      <th></th>\n",
       "      <th></th>\n",
       "      <th></th>\n",
       "      <th></th>\n",
       "      <th></th>\n",
       "      <th></th>\n",
       "      <th></th>\n",
       "      <th></th>\n",
       "      <th></th>\n",
       "      <th></th>\n",
       "      <th></th>\n",
       "      <th></th>\n",
       "      <th></th>\n",
       "      <th></th>\n",
       "      <th></th>\n",
       "    </tr>\n",
       "  </thead>\n",
       "  <tbody>\n",
       "    <tr>\n",
       "      <th>200015</th>\n",
       "      <td>0.962809</td>\n",
       "      <td>1.005737</td>\n",
       "      <td>2</td>\n",
       "      <td>9</td>\n",
       "      <td>2.0</td>\n",
       "      <td>2</td>\n",
       "      <td>40.0</td>\n",
       "      <td>2.0</td>\n",
       "      <td>1.0</td>\n",
       "      <td>6.0</td>\n",
       "      <td>...</td>\n",
       "      <td>2.0</td>\n",
       "      <td>3.0</td>\n",
       "      <td>0.0</td>\n",
       "      <td>21.0</td>\n",
       "      <td>4.0</td>\n",
       "      <td>2.0</td>\n",
       "      <td>1.0</td>\n",
       "      <td>NaN</td>\n",
       "      <td>NaN</td>\n",
       "      <td>3</td>\n",
       "    </tr>\n",
       "    <tr>\n",
       "      <th>200022</th>\n",
       "      <td>1.069085</td>\n",
       "      <td>1.163473</td>\n",
       "      <td>2</td>\n",
       "      <td>26</td>\n",
       "      <td>4.0</td>\n",
       "      <td>3</td>\n",
       "      <td>16.0</td>\n",
       "      <td>4.0</td>\n",
       "      <td>1.0</td>\n",
       "      <td>4.0</td>\n",
       "      <td>...</td>\n",
       "      <td>2.0</td>\n",
       "      <td>4.0</td>\n",
       "      <td>1.0</td>\n",
       "      <td>13.0</td>\n",
       "      <td>3.0</td>\n",
       "      <td>2.0</td>\n",
       "      <td>3.0</td>\n",
       "      <td>1.0</td>\n",
       "      <td>3.0</td>\n",
       "      <td>4</td>\n",
       "    </tr>\n",
       "    <tr>\n",
       "      <th>200039</th>\n",
       "      <td>0.683421</td>\n",
       "      <td>0.768681</td>\n",
       "      <td>1</td>\n",
       "      <td>41</td>\n",
       "      <td>1.0</td>\n",
       "      <td>2</td>\n",
       "      <td>51.0</td>\n",
       "      <td>NaN</td>\n",
       "      <td>1.0</td>\n",
       "      <td>2.0</td>\n",
       "      <td>...</td>\n",
       "      <td>2.0</td>\n",
       "      <td>1.0</td>\n",
       "      <td>2.0</td>\n",
       "      <td>17.0</td>\n",
       "      <td>4.0</td>\n",
       "      <td>2.0</td>\n",
       "      <td>3.0</td>\n",
       "      <td>1.0</td>\n",
       "      <td>1.0</td>\n",
       "      <td>3</td>\n",
       "    </tr>\n",
       "    <tr>\n",
       "      <th>200046</th>\n",
       "      <td>0.500953</td>\n",
       "      <td>0.52102</td>\n",
       "      <td>2</td>\n",
       "      <td>29</td>\n",
       "      <td>2.0</td>\n",
       "      <td>3</td>\n",
       "      <td>6.0</td>\n",
       "      <td>2.0</td>\n",
       "      <td>2.0</td>\n",
       "      <td>3.0</td>\n",
       "      <td>...</td>\n",
       "      <td>2.0</td>\n",
       "      <td>4.0</td>\n",
       "      <td>1.0</td>\n",
       "      <td>7.0</td>\n",
       "      <td>3.0</td>\n",
       "      <td>2.0</td>\n",
       "      <td>1.0</td>\n",
       "      <td>1.0</td>\n",
       "      <td>1.0</td>\n",
       "      <td>4</td>\n",
       "    </tr>\n",
       "    <tr>\n",
       "      <th>200053</th>\n",
       "      <td>1.262294</td>\n",
       "      <td>0.965789</td>\n",
       "      <td>1</td>\n",
       "      <td>23</td>\n",
       "      <td>2.0</td>\n",
       "      <td>2</td>\n",
       "      <td>8.0</td>\n",
       "      <td>4.0</td>\n",
       "      <td>1.0</td>\n",
       "      <td>5.0</td>\n",
       "      <td>...</td>\n",
       "      <td>2.0</td>\n",
       "      <td>5.0</td>\n",
       "      <td>0.0</td>\n",
       "      <td>22.0</td>\n",
       "      <td>3.0</td>\n",
       "      <td>2.0</td>\n",
       "      <td>2.0</td>\n",
       "      <td>1.0</td>\n",
       "      <td>2.0</td>\n",
       "      <td>4</td>\n",
       "    </tr>\n",
       "  </tbody>\n",
       "</table>\n",
       "<p>5 rows × 58 columns</p>\n",
       "</div>"
      ],
      "text/plain": [
       "        weight_pre weight_post  sampvar  varstrat  interest_politics  \\\n",
       "caseid                                                                 \n",
       "200015    0.962809    1.005737        2         9                2.0   \n",
       "200022    1.069085    1.163473        2        26                4.0   \n",
       "200039    0.683421    0.768681        1        41                1.0   \n",
       "200046    0.500953     0.52102        2        29                2.0   \n",
       "200053    1.262294    0.965789        1        23                2.0   \n",
       "\n",
       "        interest_campaign  state_reg  party_reg  primary_voter  pol_spectrum  \\\n",
       "caseid                                                                         \n",
       "200015                  2       40.0        2.0            1.0           6.0   \n",
       "200022                  3       16.0        4.0            1.0           4.0   \n",
       "200039                  2       51.0        NaN            1.0           2.0   \n",
       "200046                  3        6.0        2.0            2.0           3.0   \n",
       "200053                  2        8.0        4.0            1.0           5.0   \n",
       "\n",
       "        ...  union  ethnicity  children  income  health  getcovid  satisfied  \\\n",
       "caseid  ...                                                                    \n",
       "200015  ...    2.0        3.0       0.0    21.0     4.0       2.0        1.0   \n",
       "200022  ...    2.0        4.0       1.0    13.0     3.0       2.0        3.0   \n",
       "200039  ...    2.0        1.0       2.0    17.0     4.0       2.0        3.0   \n",
       "200046  ...    2.0        4.0       1.0     7.0     3.0       2.0        1.0   \n",
       "200053  ...    2.0        5.0       0.0    22.0     3.0       2.0        2.0   \n",
       "\n",
       "        vote  whovoted  region  \n",
       "caseid                          \n",
       "200015   NaN       NaN       3  \n",
       "200022   1.0       3.0       4  \n",
       "200039   1.0       1.0       3  \n",
       "200046   1.0       1.0       4  \n",
       "200053   1.0       2.0       4  \n",
       "\n",
       "[5 rows x 58 columns]"
      ]
     },
     "execution_count": 3,
     "metadata": {},
     "output_type": "execute_result"
    }
   ],
   "source": [
    "anes_data.head() # check the first five rows of data"
   ]
  },
  {
   "cell_type": "code",
   "execution_count": 4,
   "metadata": {},
   "outputs": [
    {
     "data": {
      "text/html": [
       "<div>\n",
       "<style scoped>\n",
       "    .dataframe tbody tr th:only-of-type {\n",
       "        vertical-align: middle;\n",
       "    }\n",
       "\n",
       "    .dataframe tbody tr th {\n",
       "        vertical-align: top;\n",
       "    }\n",
       "\n",
       "    .dataframe thead th {\n",
       "        text-align: right;\n",
       "    }\n",
       "</style>\n",
       "<table border=\"1\" class=\"dataframe\">\n",
       "  <thead>\n",
       "    <tr style=\"text-align: right;\">\n",
       "      <th></th>\n",
       "      <th>weight_pre</th>\n",
       "      <th>weight_post</th>\n",
       "      <th>sampvar</th>\n",
       "      <th>varstrat</th>\n",
       "      <th>interest_politics</th>\n",
       "      <th>interest_campaign</th>\n",
       "      <th>state_reg</th>\n",
       "      <th>party_reg</th>\n",
       "      <th>primary_voter</th>\n",
       "      <th>pol_spectrum</th>\n",
       "      <th>...</th>\n",
       "      <th>union</th>\n",
       "      <th>ethnicity</th>\n",
       "      <th>children</th>\n",
       "      <th>income</th>\n",
       "      <th>health</th>\n",
       "      <th>getcovid</th>\n",
       "      <th>satisfied</th>\n",
       "      <th>vote</th>\n",
       "      <th>whovoted</th>\n",
       "      <th>region</th>\n",
       "    </tr>\n",
       "    <tr>\n",
       "      <th>caseid</th>\n",
       "      <th></th>\n",
       "      <th></th>\n",
       "      <th></th>\n",
       "      <th></th>\n",
       "      <th></th>\n",
       "      <th></th>\n",
       "      <th></th>\n",
       "      <th></th>\n",
       "      <th></th>\n",
       "      <th></th>\n",
       "      <th></th>\n",
       "      <th></th>\n",
       "      <th></th>\n",
       "      <th></th>\n",
       "      <th></th>\n",
       "      <th></th>\n",
       "      <th></th>\n",
       "      <th></th>\n",
       "      <th></th>\n",
       "      <th></th>\n",
       "      <th></th>\n",
       "    </tr>\n",
       "  </thead>\n",
       "  <tbody>\n",
       "    <tr>\n",
       "      <th>535315</th>\n",
       "      <td>1.052041</td>\n",
       "      <td>2.541941</td>\n",
       "      <td>1</td>\n",
       "      <td>3</td>\n",
       "      <td>1.0</td>\n",
       "      <td>1</td>\n",
       "      <td>12.0</td>\n",
       "      <td>2.0</td>\n",
       "      <td>2.0</td>\n",
       "      <td>NaN</td>\n",
       "      <td>...</td>\n",
       "      <td>2.0</td>\n",
       "      <td>1.0</td>\n",
       "      <td>2.0</td>\n",
       "      <td>8.0</td>\n",
       "      <td>2.0</td>\n",
       "      <td>2.0</td>\n",
       "      <td>2.0</td>\n",
       "      <td>NaN</td>\n",
       "      <td>NaN</td>\n",
       "      <td>3</td>\n",
       "    </tr>\n",
       "    <tr>\n",
       "      <th>535360</th>\n",
       "      <td>1.124100</td>\n",
       "      <td>0.907123</td>\n",
       "      <td>2</td>\n",
       "      <td>5</td>\n",
       "      <td>4.0</td>\n",
       "      <td>2</td>\n",
       "      <td>16.0</td>\n",
       "      <td>2.0</td>\n",
       "      <td>2.0</td>\n",
       "      <td>6.0</td>\n",
       "      <td>...</td>\n",
       "      <td>2.0</td>\n",
       "      <td>1.0</td>\n",
       "      <td>0.0</td>\n",
       "      <td>19.0</td>\n",
       "      <td>3.0</td>\n",
       "      <td>2.0</td>\n",
       "      <td>1.0</td>\n",
       "      <td>1.0</td>\n",
       "      <td>2.0</td>\n",
       "      <td>4</td>\n",
       "    </tr>\n",
       "    <tr>\n",
       "      <th>535414</th>\n",
       "      <td>1.514417</td>\n",
       "      <td>0.654863</td>\n",
       "      <td>1</td>\n",
       "      <td>8</td>\n",
       "      <td>2.0</td>\n",
       "      <td>1</td>\n",
       "      <td>6.0</td>\n",
       "      <td>1.0</td>\n",
       "      <td>1.0</td>\n",
       "      <td>4.0</td>\n",
       "      <td>...</td>\n",
       "      <td>2.0</td>\n",
       "      <td>3.0</td>\n",
       "      <td>0.0</td>\n",
       "      <td>16.0</td>\n",
       "      <td>3.0</td>\n",
       "      <td>2.0</td>\n",
       "      <td>2.0</td>\n",
       "      <td>1.0</td>\n",
       "      <td>1.0</td>\n",
       "      <td>4</td>\n",
       "    </tr>\n",
       "    <tr>\n",
       "      <th>535421</th>\n",
       "      <td>0.292352</td>\n",
       "      <td>0.161853</td>\n",
       "      <td>2</td>\n",
       "      <td>8</td>\n",
       "      <td>2.0</td>\n",
       "      <td>1</td>\n",
       "      <td>51.0</td>\n",
       "      <td>NaN</td>\n",
       "      <td>2.0</td>\n",
       "      <td>6.0</td>\n",
       "      <td>...</td>\n",
       "      <td>2.0</td>\n",
       "      <td>1.0</td>\n",
       "      <td>0.0</td>\n",
       "      <td>14.0</td>\n",
       "      <td>1.0</td>\n",
       "      <td>2.0</td>\n",
       "      <td>1.0</td>\n",
       "      <td>NaN</td>\n",
       "      <td>NaN</td>\n",
       "      <td>3</td>\n",
       "    </tr>\n",
       "    <tr>\n",
       "      <th>535469</th>\n",
       "      <td>0.248581</td>\n",
       "      <td>0.206418</td>\n",
       "      <td>2</td>\n",
       "      <td>10</td>\n",
       "      <td>2.0</td>\n",
       "      <td>1</td>\n",
       "      <td>51.0</td>\n",
       "      <td>NaN</td>\n",
       "      <td>1.0</td>\n",
       "      <td>2.0</td>\n",
       "      <td>...</td>\n",
       "      <td>1.0</td>\n",
       "      <td>4.0</td>\n",
       "      <td>1.0</td>\n",
       "      <td>15.0</td>\n",
       "      <td>2.0</td>\n",
       "      <td>2.0</td>\n",
       "      <td>1.0</td>\n",
       "      <td>1.0</td>\n",
       "      <td>1.0</td>\n",
       "      <td>3</td>\n",
       "    </tr>\n",
       "  </tbody>\n",
       "</table>\n",
       "<p>5 rows × 58 columns</p>\n",
       "</div>"
      ],
      "text/plain": [
       "        weight_pre weight_post  sampvar  varstrat  interest_politics  \\\n",
       "caseid                                                                 \n",
       "535315    1.052041    2.541941        1         3                1.0   \n",
       "535360    1.124100    0.907123        2         5                4.0   \n",
       "535414    1.514417    0.654863        1         8                2.0   \n",
       "535421    0.292352    0.161853        2         8                2.0   \n",
       "535469    0.248581    0.206418        2        10                2.0   \n",
       "\n",
       "        interest_campaign  state_reg  party_reg  primary_voter  pol_spectrum  \\\n",
       "caseid                                                                         \n",
       "535315                  1       12.0        2.0            2.0           NaN   \n",
       "535360                  2       16.0        2.0            2.0           6.0   \n",
       "535414                  1        6.0        1.0            1.0           4.0   \n",
       "535421                  1       51.0        NaN            2.0           6.0   \n",
       "535469                  1       51.0        NaN            1.0           2.0   \n",
       "\n",
       "        ...  union  ethnicity  children  income  health  getcovid  satisfied  \\\n",
       "caseid  ...                                                                    \n",
       "535315  ...    2.0        1.0       2.0     8.0     2.0       2.0        2.0   \n",
       "535360  ...    2.0        1.0       0.0    19.0     3.0       2.0        1.0   \n",
       "535414  ...    2.0        3.0       0.0    16.0     3.0       2.0        2.0   \n",
       "535421  ...    2.0        1.0       0.0    14.0     1.0       2.0        1.0   \n",
       "535469  ...    1.0        4.0       1.0    15.0     2.0       2.0        1.0   \n",
       "\n",
       "        vote  whovoted  region  \n",
       "caseid                          \n",
       "535315   NaN       NaN       3  \n",
       "535360   1.0       2.0       4  \n",
       "535414   1.0       1.0       4  \n",
       "535421   NaN       NaN       3  \n",
       "535469   1.0       1.0       3  \n",
       "\n",
       "[5 rows x 58 columns]"
      ]
     },
     "execution_count": 4,
     "metadata": {},
     "output_type": "execute_result"
    }
   ],
   "source": [
    "anes_data.tail() # check the last five rows of data"
   ]
  },
  {
   "cell_type": "markdown",
   "metadata": {},
   "source": [
    "### Data Cleaning and Preprocessing"
   ]
  },
  {
   "cell_type": "code",
   "execution_count": 5,
   "metadata": {},
   "outputs": [
    {
     "name": "stdout",
     "output_type": "stream",
     "text": [
      "<class 'pandas.core.frame.DataFrame'>\n",
      "Int64Index: 8280 entries, 200015 to 535469\n",
      "Data columns (total 58 columns):\n",
      " #   Column              Non-Null Count  Dtype  \n",
      "---  ------              --------------  -----  \n",
      " 0   weight_pre          8280 non-null   float64\n",
      " 1   weight_post         8280 non-null   object \n",
      " 2   sampvar             8280 non-null   int64  \n",
      " 3   varstrat            8280 non-null   int64  \n",
      " 4   interest_politics   8279 non-null   float64\n",
      " 5   interest_campaign   8280 non-null   int64  \n",
      " 6   state_reg           7562 non-null   float64\n",
      " 7   party_reg           4259 non-null   float64\n",
      " 8   primary_voter       8261 non-null   float64\n",
      " 9   pol_spectrum        7056 non-null   float64\n",
      " 10  party_id            8245 non-null   float64\n",
      " 11  party_salience      7945 non-null   float64\n",
      " 12  gov_trust           8243 non-null   float64\n",
      " 13  gov_interests       8178 non-null   float64\n",
      " 14  gov_waste           8251 non-null   float64\n",
      " 15  gov_corrup          8209 non-null   float64\n",
      " 16  people_trusted      8261 non-null   float64\n",
      " 17  gov_responsive      8264 non-null   float64\n",
      " 18  better_economy      8239 non-null   float64\n",
      " 19  better_health       8247 non-null   float64\n",
      " 20  better_immigratino  8246 non-null   float64\n",
      " 21  better_taxes        8240 non-null   float64\n",
      " 22  better_environment  8236 non-null   float64\n",
      " 23  better_covid        8241 non-null   float64\n",
      " 24  fav_deathpen        8113 non-null   float64\n",
      " 25  stayhome            8186 non-null   float64\n",
      " 26  trust_media         8260 non-null   float64\n",
      " 27  corr_trump          8195 non-null   float64\n",
      " 28  fav_impeach         8229 non-null   float64\n",
      " 29  fav_senacquittal    8231 non-null   float64\n",
      " 30  covid_gov           8238 non-null   float64\n",
      " 31  covid_reopen        8241 non-null   float64\n",
      " 32  inc_gap             8211 non-null   float64\n",
      " 33  gov_climate         8280 non-null   int64  \n",
      " 34  samesex             8166 non-null   float64\n",
      " 35  transgender         7967 non-null   float64\n",
      " 36  lgbtlaw             8161 non-null   float64\n",
      " 37  birthright          8225 non-null   float64\n",
      " 38  deportkids          8131 non-null   float64\n",
      " 39  wall                8240 non-null   float64\n",
      " 40  russianinterfere    8280 non-null   int64  \n",
      " 41  religion            8172 non-null   float64\n",
      " 42  age                 7932 non-null   float64\n",
      " 43  marital             8224 non-null   float64\n",
      " 44  education           8149 non-null   float64\n",
      " 45  spouse_edu          5012 non-null   float64\n",
      " 46  armedforces         8253 non-null   float64\n",
      " 47  labor               8223 non-null   float64\n",
      " 48  union               8237 non-null   float64\n",
      " 49  ethnicity           8178 non-null   float64\n",
      " 50  children            8219 non-null   float64\n",
      " 51  income              7664 non-null   float64\n",
      " 52  health              8177 non-null   float64\n",
      " 53  getcovid            8182 non-null   float64\n",
      " 54  satisfied           8131 non-null   float64\n",
      " 55  vote                6029 non-null   float64\n",
      " 56  whovoted            5899 non-null   float64\n",
      " 57  region              8280 non-null   int64  \n",
      "dtypes: float64(51), int64(6), object(1)\n",
      "memory usage: 3.7+ MB\n"
     ]
    }
   ],
   "source": [
    "# Quick inspection of file structure, i.e. columns, null (missing values), data types\n",
    "anes_data.info()"
   ]
  },
  {
   "cell_type": "markdown",
   "metadata": {},
   "source": [
    "#### The results of the data structure shows that we have a lot of missing data; we will clean this up by dropping the missing/empty cells in the excel file"
   ]
  },
  {
   "cell_type": "code",
   "execution_count": 6,
   "metadata": {},
   "outputs": [],
   "source": [
    "# Drop all Nulls\n",
    "anes_data = anes_data.dropna()"
   ]
  },
  {
   "cell_type": "code",
   "execution_count": 7,
   "metadata": {},
   "outputs": [
    {
     "name": "stdout",
     "output_type": "stream",
     "text": [
      "<class 'pandas.core.frame.DataFrame'>\n",
      "Int64Index: 1550 entries, 200046 to 535414\n",
      "Data columns (total 58 columns):\n",
      " #   Column              Non-Null Count  Dtype  \n",
      "---  ------              --------------  -----  \n",
      " 0   weight_pre          1550 non-null   float64\n",
      " 1   weight_post         1550 non-null   object \n",
      " 2   sampvar             1550 non-null   int64  \n",
      " 3   varstrat            1550 non-null   int64  \n",
      " 4   interest_politics   1550 non-null   float64\n",
      " 5   interest_campaign   1550 non-null   int64  \n",
      " 6   state_reg           1550 non-null   float64\n",
      " 7   party_reg           1550 non-null   float64\n",
      " 8   primary_voter       1550 non-null   float64\n",
      " 9   pol_spectrum        1550 non-null   float64\n",
      " 10  party_id            1550 non-null   float64\n",
      " 11  party_salience      1550 non-null   float64\n",
      " 12  gov_trust           1550 non-null   float64\n",
      " 13  gov_interests       1550 non-null   float64\n",
      " 14  gov_waste           1550 non-null   float64\n",
      " 15  gov_corrup          1550 non-null   float64\n",
      " 16  people_trusted      1550 non-null   float64\n",
      " 17  gov_responsive      1550 non-null   float64\n",
      " 18  better_economy      1550 non-null   float64\n",
      " 19  better_health       1550 non-null   float64\n",
      " 20  better_immigratino  1550 non-null   float64\n",
      " 21  better_taxes        1550 non-null   float64\n",
      " 22  better_environment  1550 non-null   float64\n",
      " 23  better_covid        1550 non-null   float64\n",
      " 24  fav_deathpen        1550 non-null   float64\n",
      " 25  stayhome            1550 non-null   float64\n",
      " 26  trust_media         1550 non-null   float64\n",
      " 27  corr_trump          1550 non-null   float64\n",
      " 28  fav_impeach         1550 non-null   float64\n",
      " 29  fav_senacquittal    1550 non-null   float64\n",
      " 30  covid_gov           1550 non-null   float64\n",
      " 31  covid_reopen        1550 non-null   float64\n",
      " 32  inc_gap             1550 non-null   float64\n",
      " 33  gov_climate         1550 non-null   int64  \n",
      " 34  samesex             1550 non-null   float64\n",
      " 35  transgender         1550 non-null   float64\n",
      " 36  lgbtlaw             1550 non-null   float64\n",
      " 37  birthright          1550 non-null   float64\n",
      " 38  deportkids          1550 non-null   float64\n",
      " 39  wall                1550 non-null   float64\n",
      " 40  russianinterfere    1550 non-null   int64  \n",
      " 41  religion            1550 non-null   float64\n",
      " 42  age                 1550 non-null   float64\n",
      " 43  marital             1550 non-null   float64\n",
      " 44  education           1550 non-null   float64\n",
      " 45  spouse_edu          1550 non-null   float64\n",
      " 46  armedforces         1550 non-null   float64\n",
      " 47  labor               1550 non-null   float64\n",
      " 48  union               1550 non-null   float64\n",
      " 49  ethnicity           1550 non-null   float64\n",
      " 50  children            1550 non-null   float64\n",
      " 51  income              1550 non-null   float64\n",
      " 52  health              1550 non-null   float64\n",
      " 53  getcovid            1550 non-null   float64\n",
      " 54  satisfied           1550 non-null   float64\n",
      " 55  vote                1550 non-null   float64\n",
      " 56  whovoted            1550 non-null   float64\n",
      " 57  region              1550 non-null   int64  \n",
      "dtypes: float64(51), int64(6), object(1)\n",
      "memory usage: 714.5+ KB\n"
     ]
    }
   ],
   "source": [
    "# Re-evaluate the file structure after dropping missing values\n",
    "anes_data = anes_data.dropna()\n",
    "anes_data.info()"
   ]
  },
  {
   "cell_type": "markdown",
   "metadata": {},
   "source": [
    "### After dropping the missing empty cells, we now have 1550 fully pupulated rows of voter data"
   ]
  },
  {
   "cell_type": "code",
   "execution_count": 8,
   "metadata": {},
   "outputs": [
    {
     "data": {
      "text/plain": [
       "Index(['weight_pre', 'weight_post', 'sampvar', 'varstrat', 'interest_politics',\n",
       "       'interest_campaign', 'state_reg', 'party_reg', 'primary_voter',\n",
       "       'pol_spectrum', 'party_id', 'party_salience', 'gov_trust',\n",
       "       'gov_interests', 'gov_waste', 'gov_corrup', 'people_trusted',\n",
       "       'gov_responsive', 'better_economy', 'better_health',\n",
       "       'better_immigratino', 'better_taxes', 'better_environment',\n",
       "       'better_covid', 'fav_deathpen', 'stayhome', 'trust_media', 'corr_trump',\n",
       "       'fav_impeach', 'fav_senacquittal', 'covid_gov', 'covid_reopen',\n",
       "       'inc_gap', 'gov_climate', 'samesex', 'transgender', 'lgbtlaw',\n",
       "       'birthright', 'deportkids', 'wall', 'russianinterfere', 'religion',\n",
       "       'age', 'marital', 'education', 'spouse_edu', 'armedforces', 'labor',\n",
       "       'union', 'ethnicity', 'children', 'income', 'health', 'getcovid',\n",
       "       'satisfied', 'vote', 'whovoted', 'region'],\n",
       "      dtype='object')"
      ]
     },
     "execution_count": 8,
     "metadata": {},
     "output_type": "execute_result"
    }
   ],
   "source": [
    "# Review the columns\n",
    "anes_data.columns"
   ]
  },
  {
   "cell_type": "code",
   "execution_count": 9,
   "metadata": {},
   "outputs": [],
   "source": [
    "# Because we are investigating voters, we will put 'whovoted' in the last column\n",
    "# As part of this code, we will also drop columns we do not believe add any value to our analysis; these columns are:\n",
    "# 'weight_pre', 'weight_post', and 'sampvar'\n",
    "anes_data = anes_data[['interest_politics', 'interest_campaign',\n",
    "       'state_reg', 'party_reg', 'primary_voter', 'pol_spectrum', 'party_id',\n",
    "       'party_salience', 'gov_trust', 'gov_interests', 'gov_waste',\n",
    "       'gov_corrup', 'people_trusted', 'gov_responsive', 'better_economy',\n",
    "       'better_health', 'better_immigratino', 'better_taxes',\n",
    "       'better_environment', 'better_covid', 'fav_deathpen', 'stayhome',\n",
    "       'trust_media', 'corr_trump', 'fav_impeach', 'fav_senacquittal',\n",
    "       'covid_gov', 'covid_reopen', 'inc_gap', 'gov_climate', 'samesex',\n",
    "       'transgender', 'lgbtlaw', 'birthright', 'deportkids', 'wall',\n",
    "       'russianinterfere', 'religion', 'age', 'marital', 'education',\n",
    "       'spouse_edu', 'armedforces', 'labor', 'union', 'ethnicity', 'children',\n",
    "       'income', 'health', 'getcovid', 'satisfied', 'region', 'whovoted']]"
   ]
  },
  {
   "cell_type": "code",
   "execution_count": 10,
   "metadata": {},
   "outputs": [
    {
     "name": "stdout",
     "output_type": "stream",
     "text": [
      "<class 'pandas.core.frame.DataFrame'>\n",
      "Int64Index: 1550 entries, 200046 to 535414\n",
      "Data columns (total 53 columns):\n",
      " #   Column              Non-Null Count  Dtype  \n",
      "---  ------              --------------  -----  \n",
      " 0   interest_politics   1550 non-null   float64\n",
      " 1   interest_campaign   1550 non-null   int64  \n",
      " 2   state_reg           1550 non-null   float64\n",
      " 3   party_reg           1550 non-null   float64\n",
      " 4   primary_voter       1550 non-null   float64\n",
      " 5   pol_spectrum        1550 non-null   float64\n",
      " 6   party_id            1550 non-null   float64\n",
      " 7   party_salience      1550 non-null   float64\n",
      " 8   gov_trust           1550 non-null   float64\n",
      " 9   gov_interests       1550 non-null   float64\n",
      " 10  gov_waste           1550 non-null   float64\n",
      " 11  gov_corrup          1550 non-null   float64\n",
      " 12  people_trusted      1550 non-null   float64\n",
      " 13  gov_responsive      1550 non-null   float64\n",
      " 14  better_economy      1550 non-null   float64\n",
      " 15  better_health       1550 non-null   float64\n",
      " 16  better_immigratino  1550 non-null   float64\n",
      " 17  better_taxes        1550 non-null   float64\n",
      " 18  better_environment  1550 non-null   float64\n",
      " 19  better_covid        1550 non-null   float64\n",
      " 20  fav_deathpen        1550 non-null   float64\n",
      " 21  stayhome            1550 non-null   float64\n",
      " 22  trust_media         1550 non-null   float64\n",
      " 23  corr_trump          1550 non-null   float64\n",
      " 24  fav_impeach         1550 non-null   float64\n",
      " 25  fav_senacquittal    1550 non-null   float64\n",
      " 26  covid_gov           1550 non-null   float64\n",
      " 27  covid_reopen        1550 non-null   float64\n",
      " 28  inc_gap             1550 non-null   float64\n",
      " 29  gov_climate         1550 non-null   int64  \n",
      " 30  samesex             1550 non-null   float64\n",
      " 31  transgender         1550 non-null   float64\n",
      " 32  lgbtlaw             1550 non-null   float64\n",
      " 33  birthright          1550 non-null   float64\n",
      " 34  deportkids          1550 non-null   float64\n",
      " 35  wall                1550 non-null   float64\n",
      " 36  russianinterfere    1550 non-null   int64  \n",
      " 37  religion            1550 non-null   float64\n",
      " 38  age                 1550 non-null   float64\n",
      " 39  marital             1550 non-null   float64\n",
      " 40  education           1550 non-null   float64\n",
      " 41  spouse_edu          1550 non-null   float64\n",
      " 42  armedforces         1550 non-null   float64\n",
      " 43  labor               1550 non-null   float64\n",
      " 44  union               1550 non-null   float64\n",
      " 45  ethnicity           1550 non-null   float64\n",
      " 46  children            1550 non-null   float64\n",
      " 47  income              1550 non-null   float64\n",
      " 48  health              1550 non-null   float64\n",
      " 49  getcovid            1550 non-null   float64\n",
      " 50  satisfied           1550 non-null   float64\n",
      " 51  region              1550 non-null   int64  \n",
      " 52  whovoted            1550 non-null   float64\n",
      "dtypes: float64(49), int64(4)\n",
      "memory usage: 653.9 KB\n"
     ]
    }
   ],
   "source": [
    "# check the columns to make sure the objectives are achieved\n",
    "anes_data.info()"
   ]
  },
  {
   "cell_type": "code",
   "execution_count": 11,
   "metadata": {},
   "outputs": [
    {
     "data": {
      "text/plain": [
       "1.0     883\n",
       "2.0     642\n",
       "5.0      11\n",
       "3.0      10\n",
       "12.0      2\n",
       "4.0       2\n",
       "Name: whovoted, dtype: int64"
      ]
     },
     "execution_count": 11,
     "metadata": {},
     "output_type": "execute_result"
    }
   ],
   "source": [
    "# Mow we inspect the candidate options in 'whovoted' column\n",
    "anes_data.whovoted.value_counts()"
   ]
  },
  {
   "cell_type": "markdown",
   "metadata": {},
   "source": [
    "### The result shows that 883 voted for Biden, 642 voted for Trump, and the rest voted for other candidates. However, because our purpose is to understand issues pertinent to Trump voters we will only focus on the 642 Trump voters"
   ]
  },
  {
   "cell_type": "code",
   "execution_count": 12,
   "metadata": {},
   "outputs": [],
   "source": [
    "# Create a new dataframe for only Trump voters (642)\n",
    "#iris_df[iris_df.Target==1].head()\n",
    "#iris_df.loc[iris_df['Target'] == 1].head()\n",
    "trump = anes_data[anes_data['whovoted'] == 2]"
   ]
  },
  {
   "cell_type": "code",
   "execution_count": 13,
   "metadata": {},
   "outputs": [
    {
     "data": {
      "text/plain": [
       "(642, 53)"
      ]
     },
     "execution_count": 13,
     "metadata": {},
     "output_type": "execute_result"
    }
   ],
   "source": [
    "trump.shape"
   ]
  },
  {
   "cell_type": "code",
   "execution_count": 14,
   "metadata": {},
   "outputs": [
    {
     "data": {
      "text/html": [
       "<div>\n",
       "<style scoped>\n",
       "    .dataframe tbody tr th:only-of-type {\n",
       "        vertical-align: middle;\n",
       "    }\n",
       "\n",
       "    .dataframe tbody tr th {\n",
       "        vertical-align: top;\n",
       "    }\n",
       "\n",
       "    .dataframe thead th {\n",
       "        text-align: right;\n",
       "    }\n",
       "</style>\n",
       "<table border=\"1\" class=\"dataframe\">\n",
       "  <thead>\n",
       "    <tr style=\"text-align: right;\">\n",
       "      <th></th>\n",
       "      <th>interest_politics</th>\n",
       "      <th>interest_campaign</th>\n",
       "      <th>state_reg</th>\n",
       "      <th>party_reg</th>\n",
       "      <th>primary_voter</th>\n",
       "      <th>pol_spectrum</th>\n",
       "      <th>party_id</th>\n",
       "      <th>party_salience</th>\n",
       "      <th>gov_trust</th>\n",
       "      <th>gov_interests</th>\n",
       "      <th>...</th>\n",
       "      <th>labor</th>\n",
       "      <th>union</th>\n",
       "      <th>ethnicity</th>\n",
       "      <th>children</th>\n",
       "      <th>income</th>\n",
       "      <th>health</th>\n",
       "      <th>getcovid</th>\n",
       "      <th>satisfied</th>\n",
       "      <th>region</th>\n",
       "      <th>whovoted</th>\n",
       "    </tr>\n",
       "    <tr>\n",
       "      <th>caseid</th>\n",
       "      <th></th>\n",
       "      <th></th>\n",
       "      <th></th>\n",
       "      <th></th>\n",
       "      <th></th>\n",
       "      <th></th>\n",
       "      <th></th>\n",
       "      <th></th>\n",
       "      <th></th>\n",
       "      <th></th>\n",
       "      <th></th>\n",
       "      <th></th>\n",
       "      <th></th>\n",
       "      <th></th>\n",
       "      <th></th>\n",
       "      <th></th>\n",
       "      <th></th>\n",
       "      <th></th>\n",
       "      <th></th>\n",
       "      <th></th>\n",
       "      <th></th>\n",
       "    </tr>\n",
       "  </thead>\n",
       "  <tbody>\n",
       "    <tr>\n",
       "      <th>200558</th>\n",
       "      <td>1.0</td>\n",
       "      <td>1</td>\n",
       "      <td>20.0</td>\n",
       "      <td>2.0</td>\n",
       "      <td>2.0</td>\n",
       "      <td>7.0</td>\n",
       "      <td>7.0</td>\n",
       "      <td>1.0</td>\n",
       "      <td>4.0</td>\n",
       "      <td>2.0</td>\n",
       "      <td>...</td>\n",
       "      <td>1.0</td>\n",
       "      <td>2.0</td>\n",
       "      <td>1.0</td>\n",
       "      <td>1.0</td>\n",
       "      <td>19.0</td>\n",
       "      <td>3.0</td>\n",
       "      <td>2.0</td>\n",
       "      <td>3.0</td>\n",
       "      <td>2</td>\n",
       "      <td>2.0</td>\n",
       "    </tr>\n",
       "    <tr>\n",
       "      <th>200831</th>\n",
       "      <td>1.0</td>\n",
       "      <td>1</td>\n",
       "      <td>6.0</td>\n",
       "      <td>1.0</td>\n",
       "      <td>1.0</td>\n",
       "      <td>1.0</td>\n",
       "      <td>1.0</td>\n",
       "      <td>4.0</td>\n",
       "      <td>4.0</td>\n",
       "      <td>1.0</td>\n",
       "      <td>...</td>\n",
       "      <td>5.0</td>\n",
       "      <td>1.0</td>\n",
       "      <td>1.0</td>\n",
       "      <td>0.0</td>\n",
       "      <td>17.0</td>\n",
       "      <td>2.0</td>\n",
       "      <td>2.0</td>\n",
       "      <td>3.0</td>\n",
       "      <td>4</td>\n",
       "      <td>2.0</td>\n",
       "    </tr>\n",
       "    <tr>\n",
       "      <th>201001</th>\n",
       "      <td>2.0</td>\n",
       "      <td>3</td>\n",
       "      <td>12.0</td>\n",
       "      <td>4.0</td>\n",
       "      <td>2.0</td>\n",
       "      <td>4.0</td>\n",
       "      <td>5.0</td>\n",
       "      <td>2.0</td>\n",
       "      <td>3.0</td>\n",
       "      <td>1.0</td>\n",
       "      <td>...</td>\n",
       "      <td>2.0</td>\n",
       "      <td>2.0</td>\n",
       "      <td>1.0</td>\n",
       "      <td>0.0</td>\n",
       "      <td>6.0</td>\n",
       "      <td>3.0</td>\n",
       "      <td>2.0</td>\n",
       "      <td>3.0</td>\n",
       "      <td>3</td>\n",
       "      <td>2.0</td>\n",
       "    </tr>\n",
       "    <tr>\n",
       "      <th>201032</th>\n",
       "      <td>1.0</td>\n",
       "      <td>2</td>\n",
       "      <td>40.0</td>\n",
       "      <td>1.0</td>\n",
       "      <td>2.0</td>\n",
       "      <td>5.0</td>\n",
       "      <td>5.0</td>\n",
       "      <td>5.0</td>\n",
       "      <td>4.0</td>\n",
       "      <td>1.0</td>\n",
       "      <td>...</td>\n",
       "      <td>5.0</td>\n",
       "      <td>2.0</td>\n",
       "      <td>1.0</td>\n",
       "      <td>0.0</td>\n",
       "      <td>18.0</td>\n",
       "      <td>2.0</td>\n",
       "      <td>2.0</td>\n",
       "      <td>1.0</td>\n",
       "      <td>3</td>\n",
       "      <td>2.0</td>\n",
       "    </tr>\n",
       "    <tr>\n",
       "      <th>201063</th>\n",
       "      <td>1.0</td>\n",
       "      <td>1</td>\n",
       "      <td>4.0</td>\n",
       "      <td>2.0</td>\n",
       "      <td>1.0</td>\n",
       "      <td>7.0</td>\n",
       "      <td>7.0</td>\n",
       "      <td>1.0</td>\n",
       "      <td>2.0</td>\n",
       "      <td>1.0</td>\n",
       "      <td>...</td>\n",
       "      <td>5.0</td>\n",
       "      <td>2.0</td>\n",
       "      <td>1.0</td>\n",
       "      <td>0.0</td>\n",
       "      <td>10.0</td>\n",
       "      <td>2.0</td>\n",
       "      <td>2.0</td>\n",
       "      <td>1.0</td>\n",
       "      <td>4</td>\n",
       "      <td>2.0</td>\n",
       "    </tr>\n",
       "  </tbody>\n",
       "</table>\n",
       "<p>5 rows × 53 columns</p>\n",
       "</div>"
      ],
      "text/plain": [
       "        interest_politics  interest_campaign  state_reg  party_reg  \\\n",
       "caseid                                                               \n",
       "200558                1.0                  1       20.0        2.0   \n",
       "200831                1.0                  1        6.0        1.0   \n",
       "201001                2.0                  3       12.0        4.0   \n",
       "201032                1.0                  2       40.0        1.0   \n",
       "201063                1.0                  1        4.0        2.0   \n",
       "\n",
       "        primary_voter  pol_spectrum  party_id  party_salience  gov_trust  \\\n",
       "caseid                                                                     \n",
       "200558            2.0           7.0       7.0             1.0        4.0   \n",
       "200831            1.0           1.0       1.0             4.0        4.0   \n",
       "201001            2.0           4.0       5.0             2.0        3.0   \n",
       "201032            2.0           5.0       5.0             5.0        4.0   \n",
       "201063            1.0           7.0       7.0             1.0        2.0   \n",
       "\n",
       "        gov_interests  ...  labor  union  ethnicity  children  income  health  \\\n",
       "caseid                 ...                                                      \n",
       "200558            2.0  ...    1.0    2.0        1.0       1.0    19.0     3.0   \n",
       "200831            1.0  ...    5.0    1.0        1.0       0.0    17.0     2.0   \n",
       "201001            1.0  ...    2.0    2.0        1.0       0.0     6.0     3.0   \n",
       "201032            1.0  ...    5.0    2.0        1.0       0.0    18.0     2.0   \n",
       "201063            1.0  ...    5.0    2.0        1.0       0.0    10.0     2.0   \n",
       "\n",
       "        getcovid  satisfied  region  whovoted  \n",
       "caseid                                         \n",
       "200558       2.0        3.0       2       2.0  \n",
       "200831       2.0        3.0       4       2.0  \n",
       "201001       2.0        3.0       3       2.0  \n",
       "201032       2.0        1.0       3       2.0  \n",
       "201063       2.0        1.0       4       2.0  \n",
       "\n",
       "[5 rows x 53 columns]"
      ]
     },
     "execution_count": 14,
     "metadata": {},
     "output_type": "execute_result"
    }
   ],
   "source": [
    "# inspect the structure of the newly created dataframe holding only Trump voters\n",
    "trump.head()"
   ]
  },
  {
   "cell_type": "code",
   "execution_count": 15,
   "metadata": {},
   "outputs": [
    {
     "data": {
      "text/plain": [
       "(642, 53)"
      ]
     },
     "execution_count": 15,
     "metadata": {},
     "output_type": "execute_result"
    }
   ],
   "source": [
    "# inspect Trump file to ensure we have 642 records across 53 columns\n",
    "trump.shape"
   ]
  },
  {
   "cell_type": "markdown",
   "metadata": {},
   "source": [
    "### Now that we have prepared our dataset, it is time for Exploratory Data Analysis"
   ]
  },
  {
   "cell_type": "code",
   "execution_count": 16,
   "metadata": {},
   "outputs": [
    {
     "data": {
      "text/plain": [
       "2.0    283\n",
       "1.0    173\n",
       "3.0    119\n",
       "4.0     66\n",
       "5.0      1\n",
       "Name: interest_politics, dtype: int64"
      ]
     },
     "execution_count": 16,
     "metadata": {},
     "output_type": "execute_result"
    }
   ],
   "source": [
    "### Interest in Politics\n",
    "trump.interest_politics.value_counts()"
   ]
  },
  {
   "cell_type": "code",
   "execution_count": 17,
   "metadata": {},
   "outputs": [
    {
     "data": {
      "text/plain": [
       "<AxesSubplot:>"
      ]
     },
     "execution_count": 17,
     "metadata": {},
     "output_type": "execute_result"
    },
    {
     "data": {
      "image/png": "[encoded data removed]",
      "text/plain": [
       "<Figure size 432x288 with 1 Axes>"
      ]
     },
     "metadata": {
      "needs_background": "light"
     },
     "output_type": "display_data"
    }
   ],
   "source": [
    "### Option 2 means 'Most of the time'. We will chart visualize this field\n",
    "trump.interest_politics.value_counts().plot(kind='bar')"
   ]
  },
  {
   "cell_type": "markdown",
   "metadata": {},
   "source": [
    "####  While the visuals are clear, it is better to normalize the numbers as percentages; this sends a much clearer message across the different polling categories"
   ]
  },
  {
   "cell_type": "code",
   "execution_count": 18,
   "metadata": {},
   "outputs": [
    {
     "data": {
      "text/plain": [
       "2.0    0.440810\n",
       "1.0    0.269470\n",
       "3.0    0.185358\n",
       "4.0    0.102804\n",
       "5.0    0.001558\n",
       "Name: interest_politics, dtype: float64"
      ]
     },
     "execution_count": 18,
     "metadata": {},
     "output_type": "execute_result"
    }
   ],
   "source": [
    "trump.interest_politics.value_counts(normalize=True)"
   ]
  },
  {
   "cell_type": "code",
   "execution_count": 19,
   "metadata": {},
   "outputs": [
    {
     "data": {
      "text/plain": [
       "<AxesSubplot:>"
      ]
     },
     "execution_count": 19,
     "metadata": {},
     "output_type": "execute_result"
    },
    {
     "data": {
      "image/png": "[encoded data removed]",
      "text/plain": [
       "<Figure size 432x288 with 1 Axes>"
      ]
     },
     "metadata": {
      "needs_background": "light"
     },
     "output_type": "display_data"
    }
   ],
   "source": [
    "trump.interest_politics.value_counts(normalize=True).plot(kind='bar')"
   ]
  },
  {
   "cell_type": "markdown",
   "metadata": {},
   "source": [
    "#### About 70% of Trump voters pay attention to politics and elections Most of the Time and All of the time"
   ]
  },
  {
   "cell_type": "code",
   "execution_count": 20,
   "metadata": {},
   "outputs": [
    {
     "data": {
      "text/plain": [
       "1    0.552960\n",
       "2    0.336449\n",
       "3    0.110592\n",
       "Name: interest_campaign, dtype: float64"
      ]
     },
     "execution_count": 20,
     "metadata": {},
     "output_type": "execute_result"
    }
   ],
   "source": [
    "trump.interest_campaign.value_counts(normalize=True)"
   ]
  },
  {
   "cell_type": "code",
   "execution_count": 21,
   "metadata": {},
   "outputs": [
    {
     "data": {
      "text/plain": [
       "<AxesSubplot:>"
      ]
     },
     "execution_count": 21,
     "metadata": {},
     "output_type": "execute_result"
    },
    {
     "data": {
      "image/png": "[encoded data removed]",
      "text/plain": [
       "<Figure size 432x288 with 1 Axes>"
      ]
     },
     "metadata": {
      "needs_background": "light"
     },
     "output_type": "display_data"
    }
   ],
   "source": [
    "trump.interest_campaign.value_counts(normalize=True).plot(kind='bar')"
   ]
  },
  {
   "cell_type": "markdown",
   "metadata": {},
   "source": [
    "#### More than 88% of Trump voters are somewhat or very much interested in following campaigns"
   ]
  },
  {
   "cell_type": "code",
   "execution_count": 22,
   "metadata": {},
   "outputs": [
    {
     "data": {
      "text/plain": [
       "12.0    0.127726\n",
       "6.0     0.112150\n",
       "42.0    0.077882\n",
       "37.0    0.076324\n",
       "36.0    0.059190\n",
       "Name: state_reg, dtype: float64"
      ]
     },
     "execution_count": 22,
     "metadata": {},
     "output_type": "execute_result"
    }
   ],
   "source": [
    "trump.state_reg.value_counts(normalize=True).sort_values(ascending=False).head(5)"
   ]
  },
  {
   "cell_type": "code",
   "execution_count": 23,
   "metadata": {},
   "outputs": [
    {
     "data": {
      "text/plain": [
       "<AxesSubplot:>"
      ]
     },
     "execution_count": 23,
     "metadata": {},
     "output_type": "execute_result"
    },
    {
     "data": {
      "image/png": "[encoded data removed]",
      "text/plain": [
       "<Figure size 432x288 with 1 Axes>"
      ]
     },
     "metadata": {
      "needs_background": "light"
     },
     "output_type": "display_data"
    }
   ],
   "source": [
    "trump.state_reg.value_counts(normalize=True).sort_values(ascending=False).head(5).plot(kind='bar')"
   ]
  },
  {
   "cell_type": "markdown",
   "metadata": {},
   "source": [
    "#### This graph shows the top five states with Trump voters (not as percentage of population). Florida = 12.8%, California = 11.2%, Pennsylvania = 7.8%, N. Carolina = 7.6% and New York = 5.9%"
   ]
  },
  {
   "cell_type": "code",
   "execution_count": 24,
   "metadata": {},
   "outputs": [
    {
     "data": {
      "text/plain": [
       "1.0    0.777259\n",
       "2.0    0.210280\n",
       "3.0    0.012461\n",
       "Name: gov_waste, dtype: float64"
      ]
     },
     "execution_count": 24,
     "metadata": {},
     "output_type": "execute_result"
    }
   ],
   "source": [
    "trump.gov_waste.value_counts(normalize=True).sort_values(ascending=False)"
   ]
  },
  {
   "cell_type": "code",
   "execution_count": 25,
   "metadata": {},
   "outputs": [
    {
     "data": {
      "text/plain": [
       "<AxesSubplot:>"
      ]
     },
     "execution_count": 25,
     "metadata": {},
     "output_type": "execute_result"
    },
    {
     "data": {
      "image/png": "[encoded data removed]",
      "text/plain": [
       "<Figure size 432x288 with 1 Axes>"
      ]
     },
     "metadata": {
      "needs_background": "light"
     },
     "output_type": "display_data"
    }
   ],
   "source": [
    "trump.gov_waste.value_counts(normalize=True).sort_values(ascending=False).plot(kind='bar')"
   ]
  },
  {
   "cell_type": "markdown",
   "metadata": {},
   "source": [
    "#### Almost all of Republican voters (~99%) of Republican voters believe that the government wastes tax dollars"
   ]
  },
  {
   "cell_type": "code",
   "execution_count": 26,
   "metadata": {},
   "outputs": [
    {
     "data": {
      "text/plain": [
       "2.0    0.685358\n",
       "4.0    0.227414\n",
       "1.0    0.080997\n",
       "5.0    0.006231\n",
       "Name: party_reg, dtype: float64"
      ]
     },
     "execution_count": 26,
     "metadata": {},
     "output_type": "execute_result"
    }
   ],
   "source": [
    "trump.party_reg.value_counts(normalize=True).sort_values(ascending=False)"
   ]
  },
  {
   "cell_type": "code",
   "execution_count": 27,
   "metadata": {},
   "outputs": [
    {
     "data": {
      "text/plain": [
       "<AxesSubplot:>"
      ]
     },
     "execution_count": 27,
     "metadata": {},
     "output_type": "execute_result"
    },
    {
     "data": {
      "image/png": "[encoded data removed]",
      "text/plain": [
       "<Figure size 432x288 with 1 Axes>"
      ]
     },
     "metadata": {
      "needs_background": "light"
     },
     "output_type": "display_data"
    }
   ],
   "source": [
    "trump.party_reg.value_counts(normalize=True).sort_values(ascending=False).plot(kind='bar')"
   ]
  },
  {
   "cell_type": "markdown",
   "metadata": {},
   "source": [
    "#### While about 68% of registered Republicans voted for Trump, interestingly, 32% of Trump voters were either Democrats, Independents or from another party or wrte-in candidate"
   ]
  },
  {
   "cell_type": "code",
   "execution_count": 28,
   "metadata": {},
   "outputs": [
    {
     "data": {
      "text/plain": [
       "3.0    0.380062\n",
       "2.0    0.319315\n",
       "4.0    0.263240\n",
       "1.0    0.026480\n",
       "5.0    0.010903\n",
       "Name: gov_corrup, dtype: float64"
      ]
     },
     "execution_count": 28,
     "metadata": {},
     "output_type": "execute_result"
    }
   ],
   "source": [
    "trump.gov_corrup.value_counts(normalize=True).sort_values(ascending=False)"
   ]
  },
  {
   "cell_type": "code",
   "execution_count": 29,
   "metadata": {},
   "outputs": [
    {
     "data": {
      "text/plain": [
       "<AxesSubplot:>"
      ]
     },
     "execution_count": 29,
     "metadata": {},
     "output_type": "execute_result"
    },
    {
     "data": {
      "image/png": "[encoded data removed]",
      "text/plain": [
       "<Figure size 432x288 with 1 Axes>"
      ]
     },
     "metadata": {
      "needs_background": "light"
     },
     "output_type": "display_data"
    }
   ],
   "source": [
    "trump.gov_corrup.value_counts(normalize=True).sort_values(ascending=False).plot(kind='bar')"
   ]
  },
  {
   "cell_type": "markdown",
   "metadata": {},
   "source": [
    "#### About 70% of Trump voters believe that the government is corrupt"
   ]
  },
  {
   "cell_type": "code",
   "execution_count": 30,
   "metadata": {},
   "outputs": [
    {
     "data": {
      "text/plain": [
       "5.0    0.697819\n",
       "4.0    0.194704\n",
       "3.0    0.074766\n",
       "2.0    0.020249\n",
       "1.0    0.012461\n",
       "Name: better_immigratino, dtype: float64"
      ]
     },
     "execution_count": 30,
     "metadata": {},
     "output_type": "execute_result"
    }
   ],
   "source": [
    "trump.better_immigratino.value_counts(normalize=True).sort_values(ascending=False)"
   ]
  },
  {
   "cell_type": "code",
   "execution_count": 31,
   "metadata": {},
   "outputs": [
    {
     "data": {
      "text/plain": [
       "<AxesSubplot:>"
      ]
     },
     "execution_count": 31,
     "metadata": {},
     "output_type": "execute_result"
    },
    {
     "data": {
      "image/png": "[encoded data removed]",
      "text/plain": [
       "<Figure size 432x288 with 1 Axes>"
      ]
     },
     "metadata": {
      "needs_background": "light"
     },
     "output_type": "display_data"
    }
   ],
   "source": [
    "trump.better_immigratino.value_counts(normalize=True).sort_values(ascending=False).plot(kind='bar')"
   ]
  },
  {
   "cell_type": "markdown",
   "metadata": {},
   "source": [
    "#### 70% of Trump voters believe the Republicans do a better job with Immigration"
   ]
  },
  {
   "cell_type": "code",
   "execution_count": 32,
   "metadata": {},
   "outputs": [
    {
     "data": {
      "text/plain": [
       "5.0    0.395639\n",
       "3.0    0.341121\n",
       "4.0    0.214953\n",
       "2.0    0.029595\n",
       "1.0    0.018692\n",
       "Name: better_covid, dtype: float64"
      ]
     },
     "execution_count": 32,
     "metadata": {},
     "output_type": "execute_result"
    }
   ],
   "source": [
    "trump.better_covid.value_counts(normalize=True).sort_values(ascending=False)"
   ]
  },
  {
   "cell_type": "code",
   "execution_count": 33,
   "metadata": {},
   "outputs": [
    {
     "data": {
      "text/plain": [
       "<AxesSubplot:>"
      ]
     },
     "execution_count": 33,
     "metadata": {},
     "output_type": "execute_result"
    },
    {
     "data": {
      "image/png": "[encoded data removed]",
      "text/plain": [
       "<Figure size 432x288 with 1 Axes>"
      ]
     },
     "metadata": {
      "needs_background": "light"
     },
     "output_type": "display_data"
    }
   ],
   "source": [
    "trump.better_covid.value_counts(normalize=True).sort_values(ascending=False).plot(kind='bar')"
   ]
  },
  {
   "cell_type": "markdown",
   "metadata": {},
   "source": [
    "#### Only 40% of Trump voters believe that the Republican party will do a better job at tackling Covid"
   ]
  },
  {
   "cell_type": "code",
   "execution_count": 34,
   "metadata": {},
   "outputs": [
    {
     "data": {
      "text/plain": [
       "1.0    0.619938\n",
       "2.0    0.233645\n",
       "3.0    0.090343\n",
       "4.0    0.056075\n",
       "Name: fav_deathpen, dtype: float64"
      ]
     },
     "execution_count": 34,
     "metadata": {},
     "output_type": "execute_result"
    }
   ],
   "source": [
    "trump.fav_deathpen.value_counts(normalize=True).sort_values(ascending=False)"
   ]
  },
  {
   "cell_type": "code",
   "execution_count": 35,
   "metadata": {},
   "outputs": [
    {
     "data": {
      "text/plain": [
       "<AxesSubplot:>"
      ]
     },
     "execution_count": 35,
     "metadata": {},
     "output_type": "execute_result"
    },
    {
     "data": {
      "image/png": "[encoded data removed]",
      "text/plain": [
       "<Figure size 432x288 with 1 Axes>"
      ]
     },
     "metadata": {
      "needs_background": "light"
     },
     "output_type": "display_data"
    }
   ],
   "source": [
    "trump.fav_deathpen.value_counts(normalize=True).sort_values(ascending=False).plot(kind='bar')"
   ]
  },
  {
   "cell_type": "markdown",
   "metadata": {},
   "source": [
    "#### 62% of Trump voters strongly favor the death penalty"
   ]
  },
  {
   "cell_type": "code",
   "execution_count": 36,
   "metadata": {},
   "outputs": [
    {
     "data": {
      "text/plain": [
       "1.0    0.619938\n",
       "2.0    0.264798\n",
       "3.0    0.088785\n",
       "4.0    0.018692\n",
       "5.0    0.007788\n",
       "Name: trust_media, dtype: float64"
      ]
     },
     "execution_count": 36,
     "metadata": {},
     "output_type": "execute_result"
    }
   ],
   "source": [
    "trump.trust_media.value_counts(normalize=True).sort_values(ascending=False)"
   ]
  },
  {
   "cell_type": "code",
   "execution_count": 37,
   "metadata": {},
   "outputs": [
    {
     "data": {
      "text/plain": [
       "<AxesSubplot:>"
      ]
     },
     "execution_count": 37,
     "metadata": {},
     "output_type": "execute_result"
    },
    {
     "data": {
      "image/png": "[encoded data removed]",
      "text/plain": [
       "<Figure size 432x288 with 1 Axes>"
      ]
     },
     "metadata": {
      "needs_background": "light"
     },
     "output_type": "display_data"
    }
   ],
   "source": [
    "trump.trust_media.value_counts(normalize=True).sort_values(ascending=False).plot(kind='bar')"
   ]
  },
  {
   "cell_type": "markdown",
   "metadata": {},
   "source": [
    "#### About 88% of Trump voters have little or no trust in the media"
   ]
  },
  {
   "cell_type": "code",
   "execution_count": 38,
   "metadata": {},
   "outputs": [
    {
     "data": {
      "text/plain": [
       "1.0    0.761682\n",
       "4.0    0.107477\n",
       "2.0    0.093458\n",
       "7.0    0.012461\n",
       "6.0    0.012461\n",
       "3.0    0.010903\n",
       "5.0    0.001558\n",
       "Name: fav_senacquittal, dtype: float64"
      ]
     },
     "execution_count": 38,
     "metadata": {},
     "output_type": "execute_result"
    }
   ],
   "source": [
    "trump.fav_senacquittal.value_counts(normalize=True).sort_values(ascending=False)"
   ]
  },
  {
   "cell_type": "code",
   "execution_count": 39,
   "metadata": {},
   "outputs": [
    {
     "data": {
      "text/plain": [
       "<AxesSubplot:>"
      ]
     },
     "execution_count": 39,
     "metadata": {},
     "output_type": "execute_result"
    },
    {
     "data": {
      "image/png": "[encoded data removed]",
      "text/plain": [
       "<Figure size 432x288 with 1 Axes>"
      ]
     },
     "metadata": {
      "needs_background": "light"
     },
     "output_type": "display_data"
    }
   ],
   "source": [
    "trump.fav_senacquittal.value_counts(normalize=True).sort_values(ascending=False).plot(kind='bar')"
   ]
  },
  {
   "cell_type": "markdown",
   "metadata": {},
   "source": [
    "#### 76% of Trump voters strongly favored his acquittal by the senate"
   ]
  },
  {
   "cell_type": "code",
   "execution_count": 40,
   "metadata": {},
   "outputs": [
    {
     "data": {
      "text/plain": [
       "3.0    0.739875\n",
       "5.0    0.110592\n",
       "4.0    0.110592\n",
       "1.0    0.021807\n",
       "2.0    0.017134\n",
       "Name: covid_gov, dtype: float64"
      ]
     },
     "execution_count": 40,
     "metadata": {},
     "output_type": "execute_result"
    }
   ],
   "source": [
    "trump.covid_gov.value_counts(normalize=True).sort_values(ascending=False)"
   ]
  },
  {
   "cell_type": "code",
   "execution_count": 41,
   "metadata": {},
   "outputs": [
    {
     "data": {
      "text/plain": [
       "<AxesSubplot:>"
      ]
     },
     "execution_count": 41,
     "metadata": {},
     "output_type": "execute_result"
    },
    {
     "data": {
      "image/png": "[encoded data removed]",
      "text/plain": [
       "<Figure size 432x288 with 1 Axes>"
      ]
     },
     "metadata": {
      "needs_background": "light"
     },
     "output_type": "display_data"
    }
   ],
   "source": [
    "trump.covid_gov.value_counts(normalize=True).sort_values(ascending=False).plot(kind='bar')"
   ]
  },
  {
   "cell_type": "markdown",
   "metadata": {},
   "source": [
    "#### 74% of Trump voters believe the government had the right resonse to Covid"
   ]
  },
  {
   "cell_type": "code",
   "execution_count": 42,
   "metadata": {},
   "outputs": [
    {
     "data": {
      "text/plain": [
       "1.0    0.512461\n",
       "2.0    0.210280\n",
       "6.0    0.090343\n",
       "5.0    0.082555\n",
       "3.0    0.066978\n",
       "4.0    0.037383\n",
       "Name: samesex, dtype: float64"
      ]
     },
     "execution_count": 42,
     "metadata": {},
     "output_type": "execute_result"
    }
   ],
   "source": [
    "trump.samesex.value_counts(normalize=True).sort_values(ascending=False)"
   ]
  },
  {
   "cell_type": "code",
   "execution_count": 43,
   "metadata": {},
   "outputs": [
    {
     "data": {
      "text/plain": [
       "<AxesSubplot:>"
      ]
     },
     "execution_count": 43,
     "metadata": {},
     "output_type": "execute_result"
    },
    {
     "data": {
      "image/png": "[encoded data removed]",
      "text/plain": [
       "<Figure size 432x288 with 1 Axes>"
      ]
     },
     "metadata": {
      "needs_background": "light"
     },
     "output_type": "display_data"
    }
   ],
   "source": [
    "trump.samesex.value_counts(normalize=True).sort_values(ascending=False).plot(kind='bar')"
   ]
  },
  {
   "cell_type": "markdown",
   "metadata": {},
   "source": [
    "#### About 72% of Trump voters moderately or strongly feel that businesses should be required to refuse services to same sex couples"
   ]
  },
  {
   "cell_type": "code",
   "execution_count": 44,
   "metadata": {},
   "outputs": [
    {
     "data": {
      "text/plain": [
       "1.0    0.566978\n",
       "2.0    0.236760\n",
       "4.0    0.116822\n",
       "3.0    0.079439\n",
       "Name: lgbtlaw, dtype: float64"
      ]
     },
     "execution_count": 44,
     "metadata": {},
     "output_type": "execute_result"
    }
   ],
   "source": [
    "trump.lgbtlaw.value_counts(normalize=True).sort_values(ascending=False)"
   ]
  },
  {
   "cell_type": "code",
   "execution_count": 45,
   "metadata": {},
   "outputs": [
    {
     "data": {
      "text/plain": [
       "<AxesSubplot:>"
      ]
     },
     "execution_count": 45,
     "metadata": {},
     "output_type": "execute_result"
    },
    {
     "data": {
      "image/png": "[encoded data removed]",
      "text/plain": [
       "<Figure size 432x288 with 1 Axes>"
      ]
     },
     "metadata": {
      "needs_background": "light"
     },
     "output_type": "display_data"
    }
   ],
   "source": [
    "trump.lgbtlaw.value_counts(normalize=True).sort_values(ascending=False).plot(kind='bar')"
   ]
  },
  {
   "cell_type": "markdown",
   "metadata": {},
   "source": [
    "#### Very interestingly, according to polling data, about 57% of Trump voters strongly favor laws that protect LBGT against job discrimination"
   ]
  },
  {
   "cell_type": "code",
   "execution_count": 46,
   "metadata": {},
   "outputs": [
    {
     "data": {
      "text/plain": [
       "1.0    0.311526\n",
       "4.0    0.299065\n",
       "2.0    0.143302\n",
       "7.0    0.102804\n",
       "6.0    0.084112\n",
       "3.0    0.029595\n",
       "5.0    0.029595\n",
       "Name: birthright, dtype: float64"
      ]
     },
     "execution_count": 46,
     "metadata": {},
     "output_type": "execute_result"
    }
   ],
   "source": [
    "trump.birthright.value_counts(normalize=True).sort_values(ascending=False)"
   ]
  },
  {
   "cell_type": "code",
   "execution_count": 47,
   "metadata": {},
   "outputs": [
    {
     "data": {
      "text/plain": [
       "<AxesSubplot:>"
      ]
     },
     "execution_count": 47,
     "metadata": {},
     "output_type": "execute_result"
    },
    {
     "data": {
      "image/png": "[encoded data removed]",
      "text/plain": [
       "<Figure size 432x288 with 1 Axes>"
      ]
     },
     "metadata": {
      "needs_background": "light"
     },
     "output_type": "display_data"
    }
   ],
   "source": [
    "trump.birthright.value_counts(normalize=True).sort_values(ascending=False).plot(kind='bar')"
   ]
  },
  {
   "cell_type": "markdown",
   "metadata": {},
   "source": [
    "#### Shocker Alert, only 31% of Trump voters strongly favor ending birthright citizenship; in the same token 30% really don't care"
   ]
  },
  {
   "cell_type": "code",
   "execution_count": 48,
   "metadata": {},
   "outputs": [
    {
     "data": {
      "text/plain": [
       "17.0    0.099688\n",
       "19.0    0.080997\n",
       "21.0    0.079439\n",
       "1.0     0.074766\n",
       "10.0    0.071651\n",
       "22.0    0.068536\n",
       "18.0    0.068536\n",
       "20.0    0.057632\n",
       "15.0    0.052960\n",
       "16.0    0.051402\n",
       "13.0    0.045171\n",
       "14.0    0.043614\n",
       "9.0     0.032710\n",
       "11.0    0.032710\n",
       "12.0    0.026480\n",
       "8.0     0.024922\n",
       "5.0     0.024922\n",
       "7.0     0.017134\n",
       "6.0     0.017134\n",
       "4.0     0.014019\n",
       "2.0     0.009346\n",
       "3.0     0.006231\n",
       "Name: income, dtype: float64"
      ]
     },
     "execution_count": 48,
     "metadata": {},
     "output_type": "execute_result"
    }
   ],
   "source": [
    "trump.income.value_counts(normalize=True).sort_values(ascending=False)"
   ]
  },
  {
   "cell_type": "code",
   "execution_count": 49,
   "metadata": {},
   "outputs": [
    {
     "data": {
      "text/plain": [
       "<AxesSubplot:>"
      ]
     },
     "execution_count": 49,
     "metadata": {},
     "output_type": "execute_result"
    },
    {
     "data": {
      "image/png": "[encoded data removed]",
      "text/plain": [
       "<Figure size 432x288 with 1 Axes>"
      ]
     },
     "metadata": {
      "needs_background": "light"
     },
     "output_type": "display_data"
    }
   ],
   "source": [
    "trump.income.value_counts(normalize=True).sort_values(ascending=False).plot(kind='bar')"
   ]
  },
  {
   "cell_type": "markdown",
   "metadata": {},
   "source": [
    "#### About 41% of Trump voters earn more than 100k per year"
   ]
  },
  {
   "cell_type": "code",
   "execution_count": 50,
   "metadata": {},
   "outputs": [
    {
     "data": {
      "text/html": [
       "<div>\n",
       "<style scoped>\n",
       "    .dataframe tbody tr th:only-of-type {\n",
       "        vertical-align: middle;\n",
       "    }\n",
       "\n",
       "    .dataframe tbody tr th {\n",
       "        vertical-align: top;\n",
       "    }\n",
       "\n",
       "    .dataframe thead th {\n",
       "        text-align: right;\n",
       "    }\n",
       "</style>\n",
       "<table border=\"1\" class=\"dataframe\">\n",
       "  <thead>\n",
       "    <tr style=\"text-align: right;\">\n",
       "      <th></th>\n",
       "      <th>interest_politics</th>\n",
       "      <th>interest_campaign</th>\n",
       "      <th>state_reg</th>\n",
       "      <th>party_reg</th>\n",
       "      <th>primary_voter</th>\n",
       "      <th>pol_spectrum</th>\n",
       "      <th>party_id</th>\n",
       "      <th>party_salience</th>\n",
       "      <th>gov_trust</th>\n",
       "      <th>gov_interests</th>\n",
       "      <th>...</th>\n",
       "      <th>labor</th>\n",
       "      <th>union</th>\n",
       "      <th>ethnicity</th>\n",
       "      <th>children</th>\n",
       "      <th>income</th>\n",
       "      <th>health</th>\n",
       "      <th>getcovid</th>\n",
       "      <th>satisfied</th>\n",
       "      <th>region</th>\n",
       "      <th>whovoted</th>\n",
       "    </tr>\n",
       "  </thead>\n",
       "  <tbody>\n",
       "    <tr>\n",
       "      <th>count</th>\n",
       "      <td>642.000000</td>\n",
       "      <td>642.000000</td>\n",
       "      <td>642.000000</td>\n",
       "      <td>642.000000</td>\n",
       "      <td>642.000000</td>\n",
       "      <td>642.000000</td>\n",
       "      <td>642.000000</td>\n",
       "      <td>642.000000</td>\n",
       "      <td>642.000000</td>\n",
       "      <td>642.000000</td>\n",
       "      <td>...</td>\n",
       "      <td>642.000000</td>\n",
       "      <td>642.000000</td>\n",
       "      <td>642.000000</td>\n",
       "      <td>642.000000</td>\n",
       "      <td>642.000000</td>\n",
       "      <td>642.000000</td>\n",
       "      <td>642.000000</td>\n",
       "      <td>642.000000</td>\n",
       "      <td>642.000000</td>\n",
       "      <td>642.0</td>\n",
       "    </tr>\n",
       "    <tr>\n",
       "      <th>mean</th>\n",
       "      <td>2.126168</td>\n",
       "      <td>1.557632</td>\n",
       "      <td>23.704050</td>\n",
       "      <td>2.392523</td>\n",
       "      <td>1.496885</td>\n",
       "      <td>5.520249</td>\n",
       "      <td>6.014019</td>\n",
       "      <td>3.129283</td>\n",
       "      <td>3.442368</td>\n",
       "      <td>1.180685</td>\n",
       "      <td>...</td>\n",
       "      <td>2.707165</td>\n",
       "      <td>1.852025</td>\n",
       "      <td>1.426791</td>\n",
       "      <td>0.750779</td>\n",
       "      <td>14.014019</td>\n",
       "      <td>2.429907</td>\n",
       "      <td>1.957944</td>\n",
       "      <td>2.137072</td>\n",
       "      <td>2.741433</td>\n",
       "      <td>2.0</td>\n",
       "    </tr>\n",
       "    <tr>\n",
       "      <th>std</th>\n",
       "      <td>0.930318</td>\n",
       "      <td>0.684538</td>\n",
       "      <td>14.536938</td>\n",
       "      <td>0.945541</td>\n",
       "      <td>0.500380</td>\n",
       "      <td>1.074623</td>\n",
       "      <td>1.298549</td>\n",
       "      <td>1.367251</td>\n",
       "      <td>0.871070</td>\n",
       "      <td>0.385057</td>\n",
       "      <td>...</td>\n",
       "      <td>2.236747</td>\n",
       "      <td>0.355352</td>\n",
       "      <td>1.168395</td>\n",
       "      <td>1.111649</td>\n",
       "      <td>6.171606</td>\n",
       "      <td>0.979785</td>\n",
       "      <td>0.200874</td>\n",
       "      <td>0.850748</td>\n",
       "      <td>1.129023</td>\n",
       "      <td>0.0</td>\n",
       "    </tr>\n",
       "    <tr>\n",
       "      <th>min</th>\n",
       "      <td>1.000000</td>\n",
       "      <td>1.000000</td>\n",
       "      <td>2.000000</td>\n",
       "      <td>1.000000</td>\n",
       "      <td>1.000000</td>\n",
       "      <td>1.000000</td>\n",
       "      <td>1.000000</td>\n",
       "      <td>1.000000</td>\n",
       "      <td>1.000000</td>\n",
       "      <td>1.000000</td>\n",
       "      <td>...</td>\n",
       "      <td>1.000000</td>\n",
       "      <td>1.000000</td>\n",
       "      <td>1.000000</td>\n",
       "      <td>0.000000</td>\n",
       "      <td>1.000000</td>\n",
       "      <td>1.000000</td>\n",
       "      <td>1.000000</td>\n",
       "      <td>1.000000</td>\n",
       "      <td>1.000000</td>\n",
       "      <td>2.0</td>\n",
       "    </tr>\n",
       "    <tr>\n",
       "      <th>25%</th>\n",
       "      <td>1.000000</td>\n",
       "      <td>1.000000</td>\n",
       "      <td>10.250000</td>\n",
       "      <td>2.000000</td>\n",
       "      <td>1.000000</td>\n",
       "      <td>5.000000</td>\n",
       "      <td>5.000000</td>\n",
       "      <td>2.000000</td>\n",
       "      <td>3.000000</td>\n",
       "      <td>1.000000</td>\n",
       "      <td>...</td>\n",
       "      <td>1.000000</td>\n",
       "      <td>2.000000</td>\n",
       "      <td>1.000000</td>\n",
       "      <td>0.000000</td>\n",
       "      <td>10.000000</td>\n",
       "      <td>2.000000</td>\n",
       "      <td>2.000000</td>\n",
       "      <td>2.000000</td>\n",
       "      <td>2.000000</td>\n",
       "      <td>2.0</td>\n",
       "    </tr>\n",
       "    <tr>\n",
       "      <th>50%</th>\n",
       "      <td>2.000000</td>\n",
       "      <td>1.000000</td>\n",
       "      <td>22.000000</td>\n",
       "      <td>2.000000</td>\n",
       "      <td>1.000000</td>\n",
       "      <td>6.000000</td>\n",
       "      <td>7.000000</td>\n",
       "      <td>3.000000</td>\n",
       "      <td>4.000000</td>\n",
       "      <td>1.000000</td>\n",
       "      <td>...</td>\n",
       "      <td>1.000000</td>\n",
       "      <td>2.000000</td>\n",
       "      <td>1.000000</td>\n",
       "      <td>0.000000</td>\n",
       "      <td>16.000000</td>\n",
       "      <td>2.000000</td>\n",
       "      <td>2.000000</td>\n",
       "      <td>2.000000</td>\n",
       "      <td>3.000000</td>\n",
       "      <td>2.0</td>\n",
       "    </tr>\n",
       "    <tr>\n",
       "      <th>75%</th>\n",
       "      <td>3.000000</td>\n",
       "      <td>2.000000</td>\n",
       "      <td>37.000000</td>\n",
       "      <td>2.000000</td>\n",
       "      <td>2.000000</td>\n",
       "      <td>6.000000</td>\n",
       "      <td>7.000000</td>\n",
       "      <td>4.000000</td>\n",
       "      <td>4.000000</td>\n",
       "      <td>1.000000</td>\n",
       "      <td>...</td>\n",
       "      <td>5.000000</td>\n",
       "      <td>2.000000</td>\n",
       "      <td>1.000000</td>\n",
       "      <td>1.000000</td>\n",
       "      <td>19.000000</td>\n",
       "      <td>3.000000</td>\n",
       "      <td>2.000000</td>\n",
       "      <td>3.000000</td>\n",
       "      <td>4.000000</td>\n",
       "      <td>2.0</td>\n",
       "    </tr>\n",
       "    <tr>\n",
       "      <th>max</th>\n",
       "      <td>5.000000</td>\n",
       "      <td>3.000000</td>\n",
       "      <td>54.000000</td>\n",
       "      <td>5.000000</td>\n",
       "      <td>2.000000</td>\n",
       "      <td>7.000000</td>\n",
       "      <td>7.000000</td>\n",
       "      <td>5.000000</td>\n",
       "      <td>5.000000</td>\n",
       "      <td>2.000000</td>\n",
       "      <td>...</td>\n",
       "      <td>8.000000</td>\n",
       "      <td>2.000000</td>\n",
       "      <td>6.000000</td>\n",
       "      <td>4.000000</td>\n",
       "      <td>22.000000</td>\n",
       "      <td>5.000000</td>\n",
       "      <td>2.000000</td>\n",
       "      <td>5.000000</td>\n",
       "      <td>4.000000</td>\n",
       "      <td>2.0</td>\n",
       "    </tr>\n",
       "  </tbody>\n",
       "</table>\n",
       "<p>8 rows × 53 columns</p>\n",
       "</div>"
      ],
      "text/plain": [
       "       interest_politics  interest_campaign   state_reg   party_reg  \\\n",
       "count         642.000000         642.000000  642.000000  642.000000   \n",
       "mean            2.126168           1.557632   23.704050    2.392523   \n",
       "std             0.930318           0.684538   14.536938    0.945541   \n",
       "min             1.000000           1.000000    2.000000    1.000000   \n",
       "25%             1.000000           1.000000   10.250000    2.000000   \n",
       "50%             2.000000           1.000000   22.000000    2.000000   \n",
       "75%             3.000000           2.000000   37.000000    2.000000   \n",
       "max             5.000000           3.000000   54.000000    5.000000   \n",
       "\n",
       "       primary_voter  pol_spectrum    party_id  party_salience   gov_trust  \\\n",
       "count     642.000000    642.000000  642.000000      642.000000  642.000000   \n",
       "mean        1.496885      5.520249    6.014019        3.129283    3.442368   \n",
       "std         0.500380      1.074623    1.298549        1.367251    0.871070   \n",
       "min         1.000000      1.000000    1.000000        1.000000    1.000000   \n",
       "25%         1.000000      5.000000    5.000000        2.000000    3.000000   \n",
       "50%         1.000000      6.000000    7.000000        3.000000    4.000000   \n",
       "75%         2.000000      6.000000    7.000000        4.000000    4.000000   \n",
       "max         2.000000      7.000000    7.000000        5.000000    5.000000   \n",
       "\n",
       "       gov_interests  ...       labor       union   ethnicity    children  \\\n",
       "count     642.000000  ...  642.000000  642.000000  642.000000  642.000000   \n",
       "mean        1.180685  ...    2.707165    1.852025    1.426791    0.750779   \n",
       "std         0.385057  ...    2.236747    0.355352    1.168395    1.111649   \n",
       "min         1.000000  ...    1.000000    1.000000    1.000000    0.000000   \n",
       "25%         1.000000  ...    1.000000    2.000000    1.000000    0.000000   \n",
       "50%         1.000000  ...    1.000000    2.000000    1.000000    0.000000   \n",
       "75%         1.000000  ...    5.000000    2.000000    1.000000    1.000000   \n",
       "max         2.000000  ...    8.000000    2.000000    6.000000    4.000000   \n",
       "\n",
       "           income      health    getcovid   satisfied      region  whovoted  \n",
       "count  642.000000  642.000000  642.000000  642.000000  642.000000     642.0  \n",
       "mean    14.014019    2.429907    1.957944    2.137072    2.741433       2.0  \n",
       "std      6.171606    0.979785    0.200874    0.850748    1.129023       0.0  \n",
       "min      1.000000    1.000000    1.000000    1.000000    1.000000       2.0  \n",
       "25%     10.000000    2.000000    2.000000    2.000000    2.000000       2.0  \n",
       "50%     16.000000    2.000000    2.000000    2.000000    3.000000       2.0  \n",
       "75%     19.000000    3.000000    2.000000    3.000000    4.000000       2.0  \n",
       "max     22.000000    5.000000    2.000000    5.000000    4.000000       2.0  \n",
       "\n",
       "[8 rows x 53 columns]"
      ]
     },
     "execution_count": 50,
     "metadata": {},
     "output_type": "execute_result"
    }
   ],
   "source": [
    "trump.describe()"
   ]
  },
  {
   "cell_type": "code",
   "execution_count": 54,
   "metadata": {},
   "outputs": [
    {
     "data": {
      "text/plain": [
       "LinearRegression(copy_X=True, fit_intercept=True, n_jobs=None, normalize=False)"
      ]
     },
     "execution_count": 54,
     "metadata": {},
     "output_type": "execute_result"
    }
   ],
   "source": [
    "# Create the model with scikit-learn\n",
    "model = LinearRegression()\n",
    "model"
   ]
  },
  {
   "cell_type": "code",
   "execution_count": 55,
   "metadata": {},
   "outputs": [],
   "source": [
    "# Plot X independent variable (voter data) against y dependent variable\n",
    "x = trump[['interest_politics', 'interest_campaign',\n",
    "       'state_reg', 'party_reg', 'primary_voter', 'pol_spectrum', 'party_id',\n",
    "       'party_salience', 'gov_trust', 'gov_interests', 'gov_waste',\n",
    "       'gov_corrup', 'people_trusted', 'gov_responsive', 'better_economy',\n",
    "       'better_health', 'better_immigratino', 'better_taxes',\n",
    "       'better_environment', 'better_covid', 'fav_deathpen', 'stayhome',\n",
    "       'trust_media', 'corr_trump', 'fav_impeach', 'fav_senacquittal',\n",
    "       'covid_gov', 'covid_reopen', 'inc_gap', 'gov_climate', 'samesex',\n",
    "       'transgender', 'lgbtlaw', 'birthright', 'deportkids', 'wall',\n",
    "       'russianinterfere', 'religion', 'age', 'marital', 'education',\n",
    "       'spouse_edu', 'armedforces', 'labor', 'union', 'ethnicity', 'children',\n",
    "       'income', 'health', 'getcovid', 'satisfied', 'region']]\n",
    "y = trump.whovoted"
   ]
  },
  {
   "cell_type": "code",
   "execution_count": 56,
   "metadata": {},
   "outputs": [
    {
     "data": {
      "text/plain": [
       "LinearRegression(copy_X=True, fit_intercept=True, n_jobs=None, normalize=False)"
      ]
     },
     "execution_count": 56,
     "metadata": {},
     "output_type": "execute_result"
    }
   ],
   "source": [
    "# Fit data into the model\n",
    "model.fit(x, y)"
   ]
  },
  {
   "cell_type": "code",
   "execution_count": 57,
   "metadata": {},
   "outputs": [],
   "source": [
    "# with statsmodels\n",
    "constant = sm.add_constant(x) # adding a constant\n",
    " \n",
    "model = sm.OLS(y, x).fit()\n",
    "predictions = model.predict(x) "
   ]
  },
  {
   "cell_type": "code",
   "execution_count": 58,
   "metadata": {},
   "outputs": [
    {
     "data": {
      "text/html": [
       "<table class=\"simpletable\">\n",
       "<caption>OLS Regression Results</caption>\n",
       "<tr>\n",
       "  <th>Dep. Variable:</th>        <td>whovoted</td>     <th>  R-squared (uncentered):</th>      <td>   0.999</td>\n",
       "</tr>\n",
       "<tr>\n",
       "  <th>Model:</th>                   <td>OLS</td>       <th>  Adj. R-squared (uncentered):</th> <td>   0.999</td>\n",
       "</tr>\n",
       "<tr>\n",
       "  <th>Method:</th>             <td>Least Squares</td>  <th>  F-statistic:       </th>          <td>   8789.</td>\n",
       "</tr>\n",
       "<tr>\n",
       "  <th>Date:</th>             <td>Thu, 23 Sep 2021</td> <th>  Prob (F-statistic):</th>           <td>  0.00</td> \n",
       "</tr>\n",
       "<tr>\n",
       "  <th>Time:</th>                 <td>19:34:16</td>     <th>  Log-Likelihood:    </th>          <td>  779.88</td>\n",
       "</tr>\n",
       "<tr>\n",
       "  <th>No. Observations:</th>      <td>   642</td>      <th>  AIC:               </th>          <td>  -1456.</td>\n",
       "</tr>\n",
       "<tr>\n",
       "  <th>Df Residuals:</th>          <td>   590</td>      <th>  BIC:               </th>          <td>  -1224.</td>\n",
       "</tr>\n",
       "<tr>\n",
       "  <th>Df Model:</th>              <td>    52</td>      <th>                     </th>              <td> </td>   \n",
       "</tr>\n",
       "<tr>\n",
       "  <th>Covariance Type:</th>      <td>nonrobust</td>    <th>                     </th>              <td> </td>   \n",
       "</tr>\n",
       "</table>\n",
       "<table class=\"simpletable\">\n",
       "<tr>\n",
       "           <td></td>             <th>coef</th>     <th>std err</th>      <th>t</th>      <th>P>|t|</th>  <th>[0.025</th>    <th>0.975]</th>  \n",
       "</tr>\n",
       "<tr>\n",
       "  <th>interest_politics</th>  <td>    0.0036</td> <td>    0.004</td> <td>    0.882</td> <td> 0.378</td> <td>   -0.004</td> <td>    0.011</td>\n",
       "</tr>\n",
       "<tr>\n",
       "  <th>interest_campaign</th>  <td>    0.0080</td> <td>    0.006</td> <td>    1.383</td> <td> 0.167</td> <td>   -0.003</td> <td>    0.019</td>\n",
       "</tr>\n",
       "<tr>\n",
       "  <th>state_reg</th>          <td>    0.0010</td> <td>    0.000</td> <td>    4.117</td> <td> 0.000</td> <td>    0.001</td> <td>    0.001</td>\n",
       "</tr>\n",
       "<tr>\n",
       "  <th>party_reg</th>          <td>    0.0120</td> <td>    0.004</td> <td>    3.314</td> <td> 0.001</td> <td>    0.005</td> <td>    0.019</td>\n",
       "</tr>\n",
       "<tr>\n",
       "  <th>primary_voter</th>      <td>    0.0220</td> <td>    0.007</td> <td>    3.350</td> <td> 0.001</td> <td>    0.009</td> <td>    0.035</td>\n",
       "</tr>\n",
       "<tr>\n",
       "  <th>pol_spectrum</th>       <td>    0.0131</td> <td>    0.004</td> <td>    3.666</td> <td> 0.000</td> <td>    0.006</td> <td>    0.020</td>\n",
       "</tr>\n",
       "<tr>\n",
       "  <th>party_id</th>           <td>    0.0049</td> <td>    0.003</td> <td>    1.497</td> <td> 0.135</td> <td>   -0.002</td> <td>    0.011</td>\n",
       "</tr>\n",
       "<tr>\n",
       "  <th>party_salience</th>     <td>    0.0075</td> <td>    0.002</td> <td>    3.036</td> <td> 0.003</td> <td>    0.003</td> <td>    0.012</td>\n",
       "</tr>\n",
       "<tr>\n",
       "  <th>gov_trust</th>          <td>    0.0213</td> <td>    0.004</td> <td>    5.025</td> <td> 0.000</td> <td>    0.013</td> <td>    0.030</td>\n",
       "</tr>\n",
       "<tr>\n",
       "  <th>gov_interests</th>      <td>    0.0169</td> <td>    0.009</td> <td>    1.783</td> <td> 0.075</td> <td>   -0.002</td> <td>    0.035</td>\n",
       "</tr>\n",
       "<tr>\n",
       "  <th>gov_waste</th>          <td>    0.0193</td> <td>    0.008</td> <td>    2.435</td> <td> 0.015</td> <td>    0.004</td> <td>    0.035</td>\n",
       "</tr>\n",
       "<tr>\n",
       "  <th>gov_corrup</th>         <td>    0.0087</td> <td>    0.004</td> <td>    2.055</td> <td> 0.040</td> <td>    0.000</td> <td>    0.017</td>\n",
       "</tr>\n",
       "<tr>\n",
       "  <th>people_trusted</th>     <td>    0.0072</td> <td>    0.004</td> <td>    1.834</td> <td> 0.067</td> <td>   -0.001</td> <td>    0.015</td>\n",
       "</tr>\n",
       "<tr>\n",
       "  <th>gov_responsive</th>     <td>    0.0207</td> <td>    0.005</td> <td>    3.959</td> <td> 0.000</td> <td>    0.010</td> <td>    0.031</td>\n",
       "</tr>\n",
       "<tr>\n",
       "  <th>better_economy</th>     <td>    0.0159</td> <td>    0.006</td> <td>    2.462</td> <td> 0.014</td> <td>    0.003</td> <td>    0.029</td>\n",
       "</tr>\n",
       "<tr>\n",
       "  <th>better_health</th>      <td>    0.0002</td> <td>    0.005</td> <td>    0.033</td> <td> 0.974</td> <td>   -0.009</td> <td>    0.009</td>\n",
       "</tr>\n",
       "<tr>\n",
       "  <th>better_immigratino</th> <td>    0.0214</td> <td>    0.005</td> <td>    3.926</td> <td> 0.000</td> <td>    0.011</td> <td>    0.032</td>\n",
       "</tr>\n",
       "<tr>\n",
       "  <th>better_taxes</th>       <td>    0.0107</td> <td>    0.005</td> <td>    2.127</td> <td> 0.034</td> <td>    0.001</td> <td>    0.021</td>\n",
       "</tr>\n",
       "<tr>\n",
       "  <th>better_environment</th> <td>    0.0055</td> <td>    0.004</td> <td>    1.445</td> <td> 0.149</td> <td>   -0.002</td> <td>    0.013</td>\n",
       "</tr>\n",
       "<tr>\n",
       "  <th>better_covid</th>       <td>    0.0016</td> <td>    0.005</td> <td>    0.335</td> <td> 0.738</td> <td>   -0.008</td> <td>    0.011</td>\n",
       "</tr>\n",
       "<tr>\n",
       "  <th>fav_deathpen</th>       <td>    0.0060</td> <td>    0.004</td> <td>    1.573</td> <td> 0.116</td> <td>   -0.001</td> <td>    0.013</td>\n",
       "</tr>\n",
       "<tr>\n",
       "  <th>stayhome</th>           <td>    0.0048</td> <td>    0.003</td> <td>    1.475</td> <td> 0.141</td> <td>   -0.002</td> <td>    0.011</td>\n",
       "</tr>\n",
       "<tr>\n",
       "  <th>trust_media</th>        <td>    0.0164</td> <td>    0.005</td> <td>    3.622</td> <td> 0.000</td> <td>    0.008</td> <td>    0.025</td>\n",
       "</tr>\n",
       "<tr>\n",
       "  <th>corr_trump</th>         <td>    0.0048</td> <td>    0.002</td> <td>    2.351</td> <td> 0.019</td> <td>    0.001</td> <td>    0.009</td>\n",
       "</tr>\n",
       "<tr>\n",
       "  <th>fav_impeach</th>        <td>    0.0227</td> <td>    0.004</td> <td>    5.925</td> <td> 0.000</td> <td>    0.015</td> <td>    0.030</td>\n",
       "</tr>\n",
       "<tr>\n",
       "  <th>fav_senacquittal</th>   <td>    0.0191</td> <td>    0.004</td> <td>    5.405</td> <td> 0.000</td> <td>    0.012</td> <td>    0.026</td>\n",
       "</tr>\n",
       "<tr>\n",
       "  <th>covid_gov</th>          <td>    0.0325</td> <td>    0.004</td> <td>    7.483</td> <td> 0.000</td> <td>    0.024</td> <td>    0.041</td>\n",
       "</tr>\n",
       "<tr>\n",
       "  <th>covid_reopen</th>       <td>    0.0089</td> <td>    0.003</td> <td>    3.028</td> <td> 0.003</td> <td>    0.003</td> <td>    0.015</td>\n",
       "</tr>\n",
       "<tr>\n",
       "  <th>inc_gap</th>            <td>    0.0051</td> <td>    0.003</td> <td>    1.593</td> <td> 0.112</td> <td>   -0.001</td> <td>    0.011</td>\n",
       "</tr>\n",
       "<tr>\n",
       "  <th>gov_climate</th>        <td>    0.0080</td> <td>    0.004</td> <td>    2.225</td> <td> 0.026</td> <td>    0.001</td> <td>    0.015</td>\n",
       "</tr>\n",
       "<tr>\n",
       "  <th>samesex</th>            <td>    0.0061</td> <td>    0.002</td> <td>    2.694</td> <td> 0.007</td> <td>    0.002</td> <td>    0.010</td>\n",
       "</tr>\n",
       "<tr>\n",
       "  <th>transgender</th>        <td>   -0.0015</td> <td>    0.002</td> <td>   -0.646</td> <td> 0.518</td> <td>   -0.006</td> <td>    0.003</td>\n",
       "</tr>\n",
       "<tr>\n",
       "  <th>lgbtlaw</th>            <td>    0.0043</td> <td>    0.003</td> <td>    1.322</td> <td> 0.187</td> <td>   -0.002</td> <td>    0.011</td>\n",
       "</tr>\n",
       "<tr>\n",
       "  <th>birthright</th>         <td>    0.0017</td> <td>    0.002</td> <td>    1.057</td> <td> 0.291</td> <td>   -0.001</td> <td>    0.005</td>\n",
       "</tr>\n",
       "<tr>\n",
       "  <th>deportkids</th>         <td>    0.0069</td> <td>    0.002</td> <td>    3.227</td> <td> 0.001</td> <td>    0.003</td> <td>    0.011</td>\n",
       "</tr>\n",
       "<tr>\n",
       "  <th>wall</th>               <td>    0.0124</td> <td>    0.003</td> <td>    4.280</td> <td> 0.000</td> <td>    0.007</td> <td>    0.018</td>\n",
       "</tr>\n",
       "<tr>\n",
       "  <th>russianinterfere</th>   <td>    0.0091</td> <td>    0.002</td> <td>    3.733</td> <td> 0.000</td> <td>    0.004</td> <td>    0.014</td>\n",
       "</tr>\n",
       "<tr>\n",
       "  <th>religion</th>           <td>    0.0033</td> <td>    0.001</td> <td>    2.492</td> <td> 0.013</td> <td>    0.001</td> <td>    0.006</td>\n",
       "</tr>\n",
       "<tr>\n",
       "  <th>age</th>                <td>    0.0024</td> <td>    0.000</td> <td>    8.327</td> <td> 0.000</td> <td>    0.002</td> <td>    0.003</td>\n",
       "</tr>\n",
       "<tr>\n",
       "  <th>marital</th>            <td>    0.0097</td> <td>    0.003</td> <td>    3.132</td> <td> 0.002</td> <td>    0.004</td> <td>    0.016</td>\n",
       "</tr>\n",
       "<tr>\n",
       "  <th>education</th>          <td>    0.0034</td> <td>    0.003</td> <td>    1.013</td> <td> 0.312</td> <td>   -0.003</td> <td>    0.010</td>\n",
       "</tr>\n",
       "<tr>\n",
       "  <th>spouse_edu</th>         <td>    0.0050</td> <td>    0.003</td> <td>    1.485</td> <td> 0.138</td> <td>   -0.002</td> <td>    0.012</td>\n",
       "</tr>\n",
       "<tr>\n",
       "  <th>armedforces</th>        <td>    0.0606</td> <td>    0.008</td> <td>    7.928</td> <td> 0.000</td> <td>    0.046</td> <td>    0.076</td>\n",
       "</tr>\n",
       "<tr>\n",
       "  <th>labor</th>              <td>   -0.0023</td> <td>    0.002</td> <td>   -1.469</td> <td> 0.142</td> <td>   -0.005</td> <td>    0.001</td>\n",
       "</tr>\n",
       "<tr>\n",
       "  <th>union</th>              <td>    0.0350</td> <td>    0.009</td> <td>    4.015</td> <td> 0.000</td> <td>    0.018</td> <td>    0.052</td>\n",
       "</tr>\n",
       "<tr>\n",
       "  <th>ethnicity</th>          <td>    0.0016</td> <td>    0.003</td> <td>    0.608</td> <td> 0.543</td> <td>   -0.004</td> <td>    0.007</td>\n",
       "</tr>\n",
       "<tr>\n",
       "  <th>children</th>           <td>    0.0062</td> <td>    0.003</td> <td>    1.880</td> <td> 0.061</td> <td>   -0.000</td> <td>    0.013</td>\n",
       "</tr>\n",
       "<tr>\n",
       "  <th>income</th>             <td>    0.0015</td> <td>    0.001</td> <td>    2.780</td> <td> 0.006</td> <td>    0.000</td> <td>    0.003</td>\n",
       "</tr>\n",
       "<tr>\n",
       "  <th>health</th>             <td>    0.0109</td> <td>    0.003</td> <td>    3.272</td> <td> 0.001</td> <td>    0.004</td> <td>    0.017</td>\n",
       "</tr>\n",
       "<tr>\n",
       "  <th>getcovid</th>           <td>    0.1323</td> <td>    0.015</td> <td>    9.045</td> <td> 0.000</td> <td>    0.104</td> <td>    0.161</td>\n",
       "</tr>\n",
       "<tr>\n",
       "  <th>satisfied</th>          <td>    0.0118</td> <td>    0.004</td> <td>    2.937</td> <td> 0.003</td> <td>    0.004</td> <td>    0.020</td>\n",
       "</tr>\n",
       "<tr>\n",
       "  <th>region</th>             <td>    0.0153</td> <td>    0.003</td> <td>    4.942</td> <td> 0.000</td> <td>    0.009</td> <td>    0.021</td>\n",
       "</tr>\n",
       "</table>\n",
       "<table class=\"simpletable\">\n",
       "<tr>\n",
       "  <th>Omnibus:</th>       <td>30.392</td> <th>  Durbin-Watson:     </th> <td>   2.106</td>\n",
       "</tr>\n",
       "<tr>\n",
       "  <th>Prob(Omnibus):</th> <td> 0.000</td> <th>  Jarque-Bera (JB):  </th> <td>  46.917</td>\n",
       "</tr>\n",
       "<tr>\n",
       "  <th>Skew:</th>          <td> 0.377</td> <th>  Prob(JB):          </th> <td>6.49e-11</td>\n",
       "</tr>\n",
       "<tr>\n",
       "  <th>Kurtosis:</th>      <td> 4.089</td> <th>  Cond. No.          </th> <td>    336.</td>\n",
       "</tr>\n",
       "</table><br/><br/>Warnings:<br/>[1] Standard Errors assume that the covariance matrix of the errors is correctly specified."
      ],
      "text/plain": [
       "<class 'statsmodels.iolib.summary.Summary'>\n",
       "\"\"\"\n",
       "                                 OLS Regression Results                                \n",
       "=======================================================================================\n",
       "Dep. Variable:               whovoted   R-squared (uncentered):                   0.999\n",
       "Model:                            OLS   Adj. R-squared (uncentered):              0.999\n",
       "Method:                 Least Squares   F-statistic:                              8789.\n",
       "Date:                Thu, 23 Sep 2021   Prob (F-statistic):                        0.00\n",
       "Time:                        19:34:16   Log-Likelihood:                          779.88\n",
       "No. Observations:                 642   AIC:                                     -1456.\n",
       "Df Residuals:                     590   BIC:                                     -1224.\n",
       "Df Model:                          52                                                  \n",
       "Covariance Type:            nonrobust                                                  \n",
       "======================================================================================\n",
       "                         coef    std err          t      P>|t|      [0.025      0.975]\n",
       "--------------------------------------------------------------------------------------\n",
       "interest_politics      0.0036      0.004      0.882      0.378      -0.004       0.011\n",
       "interest_campaign      0.0080      0.006      1.383      0.167      -0.003       0.019\n",
       "state_reg              0.0010      0.000      4.117      0.000       0.001       0.001\n",
       "party_reg              0.0120      0.004      3.314      0.001       0.005       0.019\n",
       "primary_voter          0.0220      0.007      3.350      0.001       0.009       0.035\n",
       "pol_spectrum           0.0131      0.004      3.666      0.000       0.006       0.020\n",
       "party_id               0.0049      0.003      1.497      0.135      -0.002       0.011\n",
       "party_salience         0.0075      0.002      3.036      0.003       0.003       0.012\n",
       "gov_trust              0.0213      0.004      5.025      0.000       0.013       0.030\n",
       "gov_interests          0.0169      0.009      1.783      0.075      -0.002       0.035\n",
       "gov_waste              0.0193      0.008      2.435      0.015       0.004       0.035\n",
       "gov_corrup             0.0087      0.004      2.055      0.040       0.000       0.017\n",
       "people_trusted         0.0072      0.004      1.834      0.067      -0.001       0.015\n",
       "gov_responsive         0.0207      0.005      3.959      0.000       0.010       0.031\n",
       "better_economy         0.0159      0.006      2.462      0.014       0.003       0.029\n",
       "better_health          0.0002      0.005      0.033      0.974      -0.009       0.009\n",
       "better_immigratino     0.0214      0.005      3.926      0.000       0.011       0.032\n",
       "better_taxes           0.0107      0.005      2.127      0.034       0.001       0.021\n",
       "better_environment     0.0055      0.004      1.445      0.149      -0.002       0.013\n",
       "better_covid           0.0016      0.005      0.335      0.738      -0.008       0.011\n",
       "fav_deathpen           0.0060      0.004      1.573      0.116      -0.001       0.013\n",
       "stayhome               0.0048      0.003      1.475      0.141      -0.002       0.011\n",
       "trust_media            0.0164      0.005      3.622      0.000       0.008       0.025\n",
       "corr_trump             0.0048      0.002      2.351      0.019       0.001       0.009\n",
       "fav_impeach            0.0227      0.004      5.925      0.000       0.015       0.030\n",
       "fav_senacquittal       0.0191      0.004      5.405      0.000       0.012       0.026\n",
       "covid_gov              0.0325      0.004      7.483      0.000       0.024       0.041\n",
       "covid_reopen           0.0089      0.003      3.028      0.003       0.003       0.015\n",
       "inc_gap                0.0051      0.003      1.593      0.112      -0.001       0.011\n",
       "gov_climate            0.0080      0.004      2.225      0.026       0.001       0.015\n",
       "samesex                0.0061      0.002      2.694      0.007       0.002       0.010\n",
       "transgender           -0.0015      0.002     -0.646      0.518      -0.006       0.003\n",
       "lgbtlaw                0.0043      0.003      1.322      0.187      -0.002       0.011\n",
       "birthright             0.0017      0.002      1.057      0.291      -0.001       0.005\n",
       "deportkids             0.0069      0.002      3.227      0.001       0.003       0.011\n",
       "wall                   0.0124      0.003      4.280      0.000       0.007       0.018\n",
       "russianinterfere       0.0091      0.002      3.733      0.000       0.004       0.014\n",
       "religion               0.0033      0.001      2.492      0.013       0.001       0.006\n",
       "age                    0.0024      0.000      8.327      0.000       0.002       0.003\n",
       "marital                0.0097      0.003      3.132      0.002       0.004       0.016\n",
       "education              0.0034      0.003      1.013      0.312      -0.003       0.010\n",
       "spouse_edu             0.0050      0.003      1.485      0.138      -0.002       0.012\n",
       "armedforces            0.0606      0.008      7.928      0.000       0.046       0.076\n",
       "labor                 -0.0023      0.002     -1.469      0.142      -0.005       0.001\n",
       "union                  0.0350      0.009      4.015      0.000       0.018       0.052\n",
       "ethnicity              0.0016      0.003      0.608      0.543      -0.004       0.007\n",
       "children               0.0062      0.003      1.880      0.061      -0.000       0.013\n",
       "income                 0.0015      0.001      2.780      0.006       0.000       0.003\n",
       "health                 0.0109      0.003      3.272      0.001       0.004       0.017\n",
       "getcovid               0.1323      0.015      9.045      0.000       0.104       0.161\n",
       "satisfied              0.0118      0.004      2.937      0.003       0.004       0.020\n",
       "region                 0.0153      0.003      4.942      0.000       0.009       0.021\n",
       "==============================================================================\n",
       "Omnibus:                       30.392   Durbin-Watson:                   2.106\n",
       "Prob(Omnibus):                  0.000   Jarque-Bera (JB):               46.917\n",
       "Skew:                           0.377   Prob(JB):                     6.49e-11\n",
       "Kurtosis:                       4.089   Cond. No.                         336.\n",
       "==============================================================================\n",
       "\n",
       "Warnings:\n",
       "[1] Standard Errors assume that the covariance matrix of the errors is correctly specified.\n",
       "\"\"\""
      ]
     },
     "execution_count": 58,
     "metadata": {},
     "output_type": "execute_result"
    }
   ],
   "source": [
    "model.summary()"
   ]
  },
  {
   "cell_type": "code",
   "execution_count": 59,
   "metadata": {},
   "outputs": [
    {
     "data": {
      "text/plain": [
       "count    642.000000\n",
       "mean       2.126168\n",
       "std        0.930318\n",
       "min        1.000000\n",
       "25%        1.000000\n",
       "50%        2.000000\n",
       "75%        3.000000\n",
       "max        5.000000\n",
       "Name: interest_politics, dtype: float64"
      ]
     },
     "execution_count": 59,
     "metadata": {},
     "output_type": "execute_result"
    }
   ],
   "source": [
    "trump.interest_politics.describe()"
   ]
  },
  {
   "cell_type": "code",
   "execution_count": 70,
   "metadata": {},
   "outputs": [],
   "source": [
    "# Using pandas profiling package to streamline the data\n",
    "#from pandas_profiling import ProfileReport\n",
    "#trump_profile = ProfileReport(trump)\n",
    "#trump_profile"
   ]
  },
  {
   "cell_type": "code",
   "execution_count": 71,
   "metadata": {},
   "outputs": [],
   "source": [
    "# Generate html report\n",
    "#trump_profile.to_file('trump_profile.html')"
   ]
  },
  {
   "cell_type": "code",
   "execution_count": 72,
   "metadata": {},
   "outputs": [],
   "source": [
    "# Generate pdf report\n",
    "#trump_profile.to_file('trump_profile.pdf')"
   ]
  },
  {
   "cell_type": "code",
   "execution_count": null,
   "metadata": {},
   "outputs": [],
   "source": []
  }
 ],
 "metadata": {
  "kernelspec": {
   "display_name": "Python 3",
   "language": "python",
   "name": "python3"
  },
  "language_info": {
   "codemirror_mode": {
    "name": "ipython",
    "version": 3
   },
   "file_extension": ".py",
   "mimetype": "text/x-python",
   "name": "python",
   "nbconvert_exporter": "python",
   "pygments_lexer": "ipython3",
   "version": "3.7.7"
  }
 },
 "nbformat": 4,
 "nbformat_minor": 4
}
